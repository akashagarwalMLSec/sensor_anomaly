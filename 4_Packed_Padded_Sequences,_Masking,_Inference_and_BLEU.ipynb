{
  "nbformat": 4,
  "nbformat_minor": 0,
  "metadata": {
    "colab": {
      "name": "4_Packed_Padded_Sequences,_Masking,_Inference_and_BLEU.ipynb",
      "provenance": [],
      "collapsed_sections": []
    },
    "kernelspec": {
      "name": "python3",
      "display_name": "Python 3"
    },
    "accelerator": "GPU"
  },
  "cells": [
    {
      "cell_type": "code",
      "metadata": {
        "id": "SRYitmPn1fcn",
        "colab_type": "code",
        "colab": {
          "base_uri": "https://localhost:8080/",
          "height": 35
        },
        "outputId": "19432484-9266-4fe8-9447-b7c4e8f147e8"
      },
      "source": [
        "from google.colab import drive\n",
        "drive.mount('/content/drive')"
      ],
      "execution_count": 1,
      "outputs": [
        {
          "output_type": "stream",
          "text": [
            "Drive already mounted at /content/drive; to attempt to forcibly remount, call drive.mount(\"/content/drive\", force_remount=True).\n"
          ],
          "name": "stdout"
        }
      ]
    },
    {
      "cell_type": "code",
      "metadata": {
        "id": "JMzKa5M61fct",
        "colab_type": "code",
        "colab": {
          "base_uri": "https://localhost:8080/",
          "height": 503
        },
        "outputId": "88e6791a-4674-409e-84e0-4f61dcab2022"
      },
      "source": [
        "!apt-get install jq\n",
        "!pip install torchtext==0.6.0\n",
        "%cd /content/drive/My\\ Drive/Colab\\ stuff/sensor_anomaly\n",
        "%ls"
      ],
      "execution_count": 2,
      "outputs": [
        {
          "output_type": "stream",
          "text": [
            "Reading package lists... Done\n",
            "Building dependency tree       \n",
            "Reading state information... Done\n",
            "jq is already the newest version (1.5+dfsg-2).\n",
            "The following package was automatically installed and is no longer required:\n",
            "  libnvidia-common-440\n",
            "Use 'apt autoremove' to remove it.\n",
            "0 upgraded, 0 newly installed, 0 to remove and 33 not upgraded.\n",
            "Requirement already satisfied: torchtext==0.6.0 in /usr/local/lib/python3.6/dist-packages (0.6.0)\n",
            "Requirement already satisfied: requests in /usr/local/lib/python3.6/dist-packages (from torchtext==0.6.0) (2.23.0)\n",
            "Requirement already satisfied: sentencepiece in /usr/local/lib/python3.6/dist-packages (from torchtext==0.6.0) (0.1.91)\n",
            "Requirement already satisfied: six in /usr/local/lib/python3.6/dist-packages (from torchtext==0.6.0) (1.12.0)\n",
            "Requirement already satisfied: tqdm in /usr/local/lib/python3.6/dist-packages (from torchtext==0.6.0) (4.41.1)\n",
            "Requirement already satisfied: numpy in /usr/local/lib/python3.6/dist-packages (from torchtext==0.6.0) (1.18.5)\n",
            "Requirement already satisfied: torch in /usr/local/lib/python3.6/dist-packages (from torchtext==0.6.0) (1.5.1+cu101)\n",
            "Requirement already satisfied: urllib3!=1.25.0,!=1.25.1,<1.26,>=1.21.1 in /usr/local/lib/python3.6/dist-packages (from requests->torchtext==0.6.0) (1.24.3)\n",
            "Requirement already satisfied: chardet<4,>=3.0.2 in /usr/local/lib/python3.6/dist-packages (from requests->torchtext==0.6.0) (3.0.4)\n",
            "Requirement already satisfied: certifi>=2017.4.17 in /usr/local/lib/python3.6/dist-packages (from requests->torchtext==0.6.0) (2020.6.20)\n",
            "Requirement already satisfied: idna<3,>=2.5 in /usr/local/lib/python3.6/dist-packages (from requests->torchtext==0.6.0) (2.9)\n",
            "Requirement already satisfied: future in /usr/local/lib/python3.6/dist-packages (from torch->torchtext==0.6.0) (0.16.0)\n",
            "/content/drive/My Drive/Colab stuff/sensor_anomaly\n",
            "data_aggregation.ipynb    Sensor2Activity.ipynb   tut4-model2-20.pt\n",
            "\u001b[0m\u001b[01;34mdataset\u001b[0m/                  Sensor-Activity-20.txt  tut4-model2.pt\n",
            "\u001b[01;34mdeepmind\u001b[0m/                 Sensor-Activity.txt     tut4-model.pt\n",
            "NMT_in_PyTorch.ipynb      \u001b[01;34mSTGCN-PyTorch-master\u001b[0m/   \u001b[01;34mUAI-master\u001b[0m/\n",
            "preprocessing_data.ipynb  test.csv                val.csv\n",
            "\u001b[01;34mpytorch-seq2seq-master\u001b[0m/   train.csv               \u001b[01;34mvenv\u001b[0m/\n"
          ],
          "name": "stdout"
        }
      ]
    },
    {
      "cell_type": "markdown",
      "metadata": {
        "id": "t_W6o0xO1fcw",
        "colab_type": "text"
      },
      "source": [
        "# 4 - Packed Padded Sequences, Masking, Inference and BLEU\n",
        "\n",
        "## Introduction\n",
        "\n",
        "In this notebook we will be adding a few improvements - packed padded sequences and masking - to the model from the previous notebook. Packed padded sequences are used to tell our RNN to skip over padding tokens in our encoder. Masking explicitly forces the model to ignore certain values, such as attention over padded elements. Both of these techniques are commonly used in NLP. \n",
        "\n",
        "We will also look at how to use our model for inference, by giving it a sentence, seeing what it translates it as and seeing where exactly it pays attention to when translating each word.\n",
        "\n",
        "Finally, we'll use the BLEU metric to measure the quality of our translations.\n",
        "\n",
        "## Preparing Data\n",
        "\n",
        "First, we'll import all the modules as before, with the addition of the `matplotlib` modules used for viewing the attention."
      ]
    },
    {
      "cell_type": "code",
      "metadata": {
        "id": "uk_XwGzV1fcx",
        "colab_type": "code",
        "colab": {}
      },
      "source": [
        "import torch\n",
        "import torch.nn as nn\n",
        "import torch.optim as optim\n",
        "import torch.nn.functional as F\n",
        "import torchtext.data\n",
        "from torchtext.data import Field, BucketIterator, TabularDataset\n",
        "\n",
        "import matplotlib.pyplot as plt\n",
        "import matplotlib.ticker as ticker\n",
        "\n",
        "import numpy as np\n",
        "\n",
        "import random\n",
        "import math\n",
        "import time\n",
        "import pandas as pd\n",
        "from sklearn.model_selection import train_test_split\n",
        "from torchtext.data.metrics import bleu_score\n"
      ],
      "execution_count": 3,
      "outputs": []
    },
    {
      "cell_type": "markdown",
      "metadata": {
        "id": "dcF-oudA1fc1",
        "colab_type": "text"
      },
      "source": [
        "Next, we'll set the random seed for reproducability."
      ]
    },
    {
      "cell_type": "code",
      "metadata": {
        "id": "Zavg8wTA1fc1",
        "colab_type": "code",
        "colab": {}
      },
      "source": [
        "SEED = 1234\n",
        "\n",
        "random.seed(SEED)\n",
        "np.random.seed(SEED)\n",
        "torch.manual_seed(SEED)\n",
        "torch.cuda.manual_seed(SEED)\n",
        "torch.backends.cudnn.deterministic = True"
      ],
      "execution_count": 4,
      "outputs": []
    },
    {
      "cell_type": "markdown",
      "metadata": {
        "id": "WbdxSS451fc6",
        "colab_type": "text"
      },
      "source": [
        "When using packed padded sequences, we need to tell PyTorch how long the actual (non-padded) sequences are. Luckily for us, TorchText's `Field` objects allow us to use the `include_lengths` argument, this will cause our `batch.src` to be a tuple. The first element of the tuple is the same as before, a batch of numericalized source sentence as a tensor, and the second element is the non-padded lengths of each source sentence within the batch."
      ]
    },
    {
      "cell_type": "code",
      "metadata": {
        "id": "3SCHIzgR1fc7",
        "colab_type": "code",
        "colab": {}
      },
      "source": [
        "tokenize_simple = lambda x: x.split()\n",
        "SRC = Field(tokenize = tokenize_simple, \n",
        "            init_token = '<sos>', \n",
        "            eos_token = '<eos>', \n",
        "            lower = True, \n",
        "            include_lengths = True)\n",
        "\n",
        "TRG = Field(tokenize = tokenize_simple, \n",
        "            init_token = '<sos>', \n",
        "            eos_token = '<eos>', \n",
        "            lower = True)"
      ],
      "execution_count": 5,
      "outputs": []
    },
    {
      "cell_type": "code",
      "metadata": {
        "id": "k2EJegQ01fc-",
        "colab_type": "code",
        "colab": {
          "base_uri": "https://localhost:8080/",
          "height": 181
        },
        "outputId": "5e621a6e-c35e-4cce-9c69-89127810d4bb"
      },
      "source": [
        "f = open('Sensor-Activity-20.txt', encoding='UTF-8').read().strip().split('\\n')\n",
        "lines = f\n",
        "original_word_pairs = [[w for w in l.split('\\t')] for l in lines]\n",
        "raw_data = {'Sensor' : [line[0] for line in original_word_pairs], 'Activity': [line[1] for line in original_word_pairs]}\n",
        "df = pd.DataFrame(raw_data, columns=[\"Sensor\", \"Activity\"])\n",
        "print(len(df))\n",
        "train_data, test_data = train_test_split(df, test_size=0.03)\n",
        "train_data, valid_data = train_test_split(train_data, test_size=0.033)\n",
        "print(len(train_data), len(test_data), len(valid_data))\n",
        "train_data.to_csv(\"train.csv\", index=False, header=False)\n",
        "valid_data.to_csv(\"val.csv\", index=False, header=False)\n",
        "test_data.to_csv(\"test.csv\", index=False, header=False)\n",
        "data_fields = [('Sensor', SRC), ('Activity', TRG)]\n",
        "train_data,valid_data = torchtext.data.TabularDataset.splits(path='./', train='train.csv', validation='val.csv', format='csv', fields=data_fields)\n",
        "train_data,test_data = torchtext.data.TabularDataset.splits(path='./', train='train.csv', validation='test.csv', format='csv', fields=data_fields)\n",
        "print(f\"Number of training examples: {len(train_data.examples)}\")\n",
        "print(f\"Number of validation examples: {len(valid_data.examples)}\")\n",
        "print(f\"Number of testing examples: {len(test_data.examples)}\")\n",
        "print(vars(valid_data.examples[700]))\n",
        "SRC.build_vocab(train_data, valid_data, test_data, min_freq = 1)\n",
        "TRG.build_vocab(train_data, valid_data, test_data, min_freq = 1)\n",
        "print(f\"Unique tokens in source (sensor) vocabulary: {len(SRC.vocab)}\")\n",
        "print(f\"Unique tokens in target (activity) vocabulary: {len(TRG.vocab)}\")"
      ],
      "execution_count": 6,
      "outputs": [
        {
          "output_type": "stream",
          "text": [
            "23766\n",
            "22292 713 761\n",
            "Number of training examples: 22292\n",
            "Number of validation examples: 761\n",
            "Number of testing examples: 713\n",
            "{'Sensor': ['1', '63', '1', '1', '2466', '79', '131', '241', '1', '1', '3', '1', '1', '1', '1', '1', '1', '380', '781', '290', '79'], 'Activity': ['135', '135', '135', '135', '99', '154', '154', '154', '154', '154', '154', '154', '154', '154', '154', '154', '154', '154', '154', '154', '154']}\n",
            "Unique tokens in source (sensor) vocabulary: 4862\n",
            "Unique tokens in target (activity) vocabulary: 170\n"
          ],
          "name": "stdout"
        }
      ]
    },
    {
      "cell_type": "markdown",
      "metadata": {
        "id": "yeedreK61fdC",
        "colab_type": "text"
      },
      "source": [
        "## Building the Model\n",
        "\n",
        "### Encoder\n",
        "\n",
        "Next up, we define the encoder.\n",
        "\n",
        "The changes here all within the `forward` method. It now accepts the lengths of the source sentences as well as the sentences themselves. \n",
        "\n",
        "After the source sentence (padded automatically within the iterator) has been embedded, we can then use `pack_padded_sequence` on it with the lengths of the sentences. `packed_embedded` will then be our packed padded sequence. This can be then fed to our RNN as normal which will return `packed_outputs`, a packed tensor containing all of the hidden states from the sequence, and `hidden` which is simply the final hidden state from our sequence. `hidden` is a standard tensor and not packed in any way, the only difference is that as the input was a packed sequence, this tensor is from the final **non-padded element** in the sequence.\n",
        "\n",
        "We then unpack our `packed_outputs` using `pad_packed_sequence` which returns the `outputs` and the lengths of each, which we don't need. \n",
        "\n",
        "The first dimension of `outputs` is the padded sequence lengths however due to using a packed padded sequence the values of tensors when a padding token was the input will be all zeros."
      ]
    },
    {
      "cell_type": "code",
      "metadata": {
        "id": "ATLlBzv41fdD",
        "colab_type": "code",
        "colab": {}
      },
      "source": [
        "class Encoder(nn.Module):\n",
        "    def __init__(self, input_dim, emb_dim, enc_hid_dim, dec_hid_dim, dropout):\n",
        "        super().__init__()\n",
        "        \n",
        "        self.embedding = nn.Embedding(input_dim, emb_dim)\n",
        "        \n",
        "        self.rnn = nn.GRU(emb_dim, enc_hid_dim, bidirectional = True)\n",
        "        \n",
        "        self.fc = nn.Linear(enc_hid_dim * 2, dec_hid_dim)\n",
        "        \n",
        "        self.dropout = nn.Dropout(dropout)\n",
        "        \n",
        "    def forward(self, src, src_len):\n",
        "        \n",
        "        #src = [src len, batch size]\n",
        "        #src_len = [batch size]\n",
        "        \n",
        "        embedded = self.dropout(self.embedding(src))\n",
        "        \n",
        "        #embedded = [src len, batch size, emb dim]\n",
        "                \n",
        "        packed_embedded = nn.utils.rnn.pack_padded_sequence(embedded, src_len)\n",
        "                \n",
        "        packed_outputs, hidden = self.rnn(packed_embedded)\n",
        "                                 \n",
        "        #packed_outputs is a packed sequence containing all hidden states\n",
        "        #hidden is now from the final non-padded element in the batch\n",
        "            \n",
        "        outputs, _ = nn.utils.rnn.pad_packed_sequence(packed_outputs) \n",
        "            \n",
        "        #outputs is now a non-packed sequence, all hidden states obtained\n",
        "        #  when the input is a pad token are all zeros\n",
        "            \n",
        "        #outputs = [src len, batch size, hid dim * num directions]\n",
        "        #hidden = [n layers * num directions, batch size, hid dim]\n",
        "        \n",
        "        #hidden is stacked [forward_1, backward_1, forward_2, backward_2, ...]\n",
        "        #outputs are always from the last layer\n",
        "        \n",
        "        #hidden [-2, :, : ] is the last of the forwards RNN \n",
        "        #hidden [-1, :, : ] is the last of the backwards RNN\n",
        "        \n",
        "        #initial decoder hidden is final hidden state of the forwards and backwards \n",
        "        #  encoder RNNs fed through a linear layer\n",
        "        hidden = torch.tanh(self.fc(torch.cat((hidden[-2,:,:], hidden[-1,:,:]), dim = 1)))\n",
        "        \n",
        "        #outputs = [src len, batch size, enc hid dim * 2]\n",
        "        #hidden = [batch size, dec hid dim]\n",
        "        \n",
        "        return outputs, hidden"
      ],
      "execution_count": 7,
      "outputs": []
    },
    {
      "cell_type": "markdown",
      "metadata": {
        "id": "kqEFCb5b1fdH",
        "colab_type": "text"
      },
      "source": [
        "### Attention\n",
        "\n",
        "The attention module is where we calculate the attention values over the source sentence. \n",
        "\n",
        "Previously, we allowed this module to \"pay attention\" to padding tokens within the source sentence. However, using *masking*, we can force the attention to only be over non-padding elements.\n",
        "\n",
        "The `forward` method now takes a `mask` input. This is a **[batch size, source sentence length]** tensor that is 1 when the source sentence token is not a padding token, and 0 when it is a padding token. For example, if the source sentence is: [\"hello\", \"how\", \"are\", \"you\", \"?\", `<pad>`, `<pad>`], then the mask would be [1, 1, 1, 1, 1, 0, 0].\n",
        "\n",
        "We apply the mask after the attention has been calculated, but before it has been normalized by the `softmax` function. It is applied using `masked_fill`. This fills the tensor at each element where the first argument (`mask == 0`) is true, with the value given by the second argument (`-1e10`). In other words, it will take the un-normalized attention values, and change the attention values over padded elements to be `-1e10`. As these numbers will be miniscule compared to the other values they will become zero when passed through the `softmax` layer, ensuring no attention is payed to padding tokens in the source sentence."
      ]
    },
    {
      "cell_type": "code",
      "metadata": {
        "id": "MqrQ-35l1fdI",
        "colab_type": "code",
        "colab": {}
      },
      "source": [
        "class Attention(nn.Module):\n",
        "    def __init__(self, enc_hid_dim, dec_hid_dim):\n",
        "        super().__init__()\n",
        "        \n",
        "        self.attn = nn.Linear((enc_hid_dim * 2) + dec_hid_dim, dec_hid_dim)\n",
        "        self.v = nn.Linear(dec_hid_dim, 1, bias = False)\n",
        "        \n",
        "    def forward(self, hidden, encoder_outputs, mask):\n",
        "        \n",
        "        #hidden = [batch size, dec hid dim]\n",
        "        #encoder_outputs = [src len, batch size, enc hid dim * 2]\n",
        "        \n",
        "        batch_size = encoder_outputs.shape[1]\n",
        "        src_len = encoder_outputs.shape[0]\n",
        "        \n",
        "        #repeat decoder hidden state src_len times\n",
        "        hidden = hidden.unsqueeze(1).repeat(1, src_len, 1)\n",
        "  \n",
        "        encoder_outputs = encoder_outputs.permute(1, 0, 2)\n",
        "        \n",
        "        #hidden = [batch size, src len, dec hid dim]\n",
        "        #encoder_outputs = [batch size, src len, enc hid dim * 2]\n",
        "        \n",
        "        energy = torch.tanh(self.attn(torch.cat((hidden, encoder_outputs), dim = 2))) \n",
        "        \n",
        "        #energy = [batch size, src len, dec hid dim]\n",
        "\n",
        "        attention = self.v(energy).squeeze(2)\n",
        "        \n",
        "        #attention = [batch size, src len]\n",
        "        \n",
        "        attention = attention.masked_fill(mask == 0, -1e10)\n",
        "        \n",
        "        return F.softmax(attention, dim = 1)"
      ],
      "execution_count": 8,
      "outputs": []
    },
    {
      "cell_type": "markdown",
      "metadata": {
        "id": "UIl4RS-n1fdL",
        "colab_type": "text"
      },
      "source": [
        "### Decoder\n",
        "\n",
        "The decoder only needs a few small changes. It needs to accept a mask over the source sentence and pass this to the attention module. As we want to view the values of attention during inference, we also return the attention tensor."
      ]
    },
    {
      "cell_type": "code",
      "metadata": {
        "id": "m7iN5L6E1fdM",
        "colab_type": "code",
        "colab": {}
      },
      "source": [
        "class Decoder(nn.Module):\n",
        "    def __init__(self, output_dim, emb_dim, enc_hid_dim, dec_hid_dim, dropout, attention):\n",
        "        super().__init__()\n",
        "\n",
        "        self.output_dim = output_dim\n",
        "        self.attention = attention\n",
        "        \n",
        "        self.embedding = nn.Embedding(output_dim, emb_dim)\n",
        "        \n",
        "        self.rnn = nn.GRU((enc_hid_dim * 2) + emb_dim, dec_hid_dim)\n",
        "        \n",
        "        self.fc_out = nn.Linear((enc_hid_dim * 2) + dec_hid_dim + emb_dim, output_dim)\n",
        "        \n",
        "        self.dropout = nn.Dropout(dropout)\n",
        "        \n",
        "    def forward(self, input, hidden, encoder_outputs, mask):\n",
        "             \n",
        "        #input = [batch size]\n",
        "        #hidden = [batch size, dec hid dim]\n",
        "        #encoder_outputs = [src len, batch size, enc hid dim * 2]\n",
        "        #mask = [batch size, src len]\n",
        "        \n",
        "        input = input.unsqueeze(0)\n",
        "        \n",
        "        #input = [1, batch size]\n",
        "        \n",
        "        embedded = self.dropout(self.embedding(input))\n",
        "        \n",
        "        #embedded = [1, batch size, emb dim]\n",
        "        \n",
        "        a = self.attention(hidden, encoder_outputs, mask)\n",
        "                \n",
        "        #a = [batch size, src len]\n",
        "        \n",
        "        a = a.unsqueeze(1)\n",
        "        \n",
        "        #a = [batch size, 1, src len]\n",
        "        \n",
        "        encoder_outputs = encoder_outputs.permute(1, 0, 2)\n",
        "        \n",
        "        #encoder_outputs = [batch size, src len, enc hid dim * 2]\n",
        "        \n",
        "        weighted = torch.bmm(a, encoder_outputs)\n",
        "        \n",
        "        #weighted = [batch size, 1, enc hid dim * 2]\n",
        "        \n",
        "        weighted = weighted.permute(1, 0, 2)\n",
        "        \n",
        "        #weighted = [1, batch size, enc hid dim * 2]\n",
        "        \n",
        "        rnn_input = torch.cat((embedded, weighted), dim = 2)\n",
        "        \n",
        "        #rnn_input = [1, batch size, (enc hid dim * 2) + emb dim]\n",
        "            \n",
        "        output, hidden = self.rnn(rnn_input, hidden.unsqueeze(0))\n",
        "        \n",
        "        #output = [seq len, batch size, dec hid dim * n directions]\n",
        "        #hidden = [n layers * n directions, batch size, dec hid dim]\n",
        "        \n",
        "        #seq len, n layers and n directions will always be 1 in this decoder, therefore:\n",
        "        #output = [1, batch size, dec hid dim]\n",
        "        #hidden = [1, batch size, dec hid dim]\n",
        "        #this also means that output == hidden\n",
        "        assert (output == hidden).all()\n",
        "        \n",
        "        embedded = embedded.squeeze(0)\n",
        "        output = output.squeeze(0)\n",
        "        weighted = weighted.squeeze(0)\n",
        "        \n",
        "        prediction = self.fc_out(torch.cat((output, weighted, embedded), dim = 1))\n",
        "        \n",
        "        #prediction = [batch size, output dim]\n",
        "        \n",
        "        return prediction, hidden.squeeze(0), a.squeeze(1)"
      ],
      "execution_count": 9,
      "outputs": []
    },
    {
      "cell_type": "markdown",
      "metadata": {
        "id": "T-8GRqOL1fdT",
        "colab_type": "text"
      },
      "source": [
        "### Seq2Seq\n",
        "\n",
        "The overarching seq2seq model also needs a few changes for packed padded sequences, masking and inference. \n",
        "\n",
        "We need to tell it what the indexes are for the pad token and also pass the source sentence lengths as input to the `forward` method.\n",
        "\n",
        "We use the pad token index to create the masks, by creating a mask tensor that is 1 wherever the source sentence is not equal to the pad token. This is all done within the `create_mask` function.\n",
        "\n",
        "The sequence lengths as needed to pass to the encoder to use packed padded sequences.\n",
        "\n",
        "The attention at each time-step is stored in the `attentions` "
      ]
    },
    {
      "cell_type": "code",
      "metadata": {
        "id": "uH43_EbB1fdU",
        "colab_type": "code",
        "colab": {}
      },
      "source": [
        "class Seq2Seq(nn.Module):\n",
        "    def __init__(self, encoder, decoder, src_pad_idx, device):\n",
        "        super().__init__()\n",
        "        \n",
        "        self.encoder = encoder\n",
        "        self.decoder = decoder\n",
        "        self.src_pad_idx = src_pad_idx\n",
        "        self.device = device\n",
        "        \n",
        "    def create_mask(self, src):\n",
        "        mask = (src != self.src_pad_idx).permute(1, 0)\n",
        "        return mask\n",
        "        \n",
        "    def forward(self, src, src_len, trg, teacher_forcing_ratio = 0.5):\n",
        "        \n",
        "        #src = [src len, batch size]\n",
        "        #src_len = [batch size]\n",
        "        #trg = [trg len, batch size]\n",
        "        #teacher_forcing_ratio is probability to use teacher forcing\n",
        "        #e.g. if teacher_forcing_ratio is 0.75 we use teacher forcing 75% of the time\n",
        "                    \n",
        "        batch_size = src.shape[1]\n",
        "        trg_len = trg.shape[0]\n",
        "        trg_vocab_size = self.decoder.output_dim\n",
        "        \n",
        "        #tensor to store decoder outputs\n",
        "        outputs = torch.zeros(trg_len, batch_size, trg_vocab_size).to(self.device)\n",
        "        \n",
        "        #encoder_outputs is all hidden states of the input sequence, back and forwards\n",
        "        #hidden is the final forward and backward hidden states, passed through a linear layer\n",
        "        encoder_outputs, hidden = self.encoder(src, src_len)\n",
        "                \n",
        "        #first input to the decoder is the <sos> tokens\n",
        "        input = trg[0,:]\n",
        "        \n",
        "        mask = self.create_mask(src)\n",
        "\n",
        "        #mask = [batch size, src len]\n",
        "                \n",
        "        for t in range(1, trg_len):\n",
        "            \n",
        "            #insert input token embedding, previous hidden state, all encoder hidden states \n",
        "            #  and mask\n",
        "            #receive output tensor (predictions) and new hidden state\n",
        "            output, hidden, _ = self.decoder(input, hidden, encoder_outputs, mask)\n",
        "            \n",
        "            #place predictions in a tensor holding predictions for each token\n",
        "            outputs[t] = output\n",
        "            \n",
        "            #decide if we are going to use teacher forcing or not\n",
        "            teacher_force = random.random() < teacher_forcing_ratio\n",
        "            \n",
        "            #get the highest predicted token from our predictions\n",
        "            top1 = output.argmax(1) \n",
        "            \n",
        "            #if teacher forcing, use actual next token as next input\n",
        "            #if not, use predicted token\n",
        "            input = trg[t] if teacher_force else top1\n",
        "            \n",
        "        return outputs"
      ],
      "execution_count": 10,
      "outputs": []
    },
    {
      "cell_type": "markdown",
      "metadata": {
        "id": "LTVvYwla1fdX",
        "colab_type": "text"
      },
      "source": [
        "Then, we initialize the model parameters."
      ]
    },
    {
      "cell_type": "code",
      "metadata": {
        "id": "C-bjI3En1fdY",
        "colab_type": "code",
        "colab": {}
      },
      "source": [
        "def init_weights(m):\n",
        "    for name, param in m.named_parameters():\n",
        "        if 'weight' in name:\n",
        "            nn.init.normal_(param.data, mean=0, std=0.01)\n",
        "        else:\n",
        "            nn.init.constant_(param.data, 0)"
      ],
      "execution_count": 11,
      "outputs": []
    },
    {
      "cell_type": "markdown",
      "metadata": {
        "id": "xYb2X7VD1fdb",
        "colab_type": "text"
      },
      "source": [
        "Next, we'll define our training and evaluation loops.\n",
        "\n",
        "As we are using `include_lengths = True` for our source field, `batch.src` is now a tuple with the first element being the numericalized tensor representing the sentence and the second element being the lengths of each sentence within the batch.\n",
        "\n",
        "Our model also returns the attention vectors over the batch of source source sentences for each decoding time-step. We won't use these during the training/evaluation, but we will later for inference."
      ]
    },
    {
      "cell_type": "code",
      "metadata": {
        "id": "bvwS58IO1fdc",
        "colab_type": "code",
        "colab": {}
      },
      "source": [
        "def train(model, iterator, optimizer, criterion, clip):\n",
        "    \n",
        "    model.train()\n",
        "    \n",
        "    epoch_loss = 0\n",
        "    \n",
        "    for i, batch in enumerate(iterator):\n",
        "        \n",
        "        src, src_len = batch.Sensor\n",
        "        trg = batch.Activity\n",
        "        \n",
        "        optimizer.zero_grad()\n",
        "        \n",
        "        output = model(src, src_len, trg)\n",
        "        \n",
        "        #trg = [trg len, batch size]\n",
        "        #output = [trg len, batch size, output dim]\n",
        "        \n",
        "        output_dim = output.shape[-1]\n",
        "        \n",
        "        output = output[1:].view(-1, output_dim)\n",
        "        trg = trg[1:].view(-1)\n",
        "        \n",
        "        #trg = [(trg len - 1) * batch size]\n",
        "        #output = [(trg len - 1) * batch size, output dim]\n",
        "        \n",
        "        loss = criterion(output, trg)\n",
        "        \n",
        "        loss.backward()\n",
        "        \n",
        "        torch.nn.utils.clip_grad_norm_(model.parameters(), clip)\n",
        "        \n",
        "        optimizer.step()\n",
        "        sched.step()\n",
        "        \n",
        "        epoch_loss += loss.item()\n",
        "        \n",
        "    return epoch_loss / len(iterator)"
      ],
      "execution_count": 12,
      "outputs": []
    },
    {
      "cell_type": "code",
      "metadata": {
        "id": "th3HYdFa1fdf",
        "colab_type": "code",
        "colab": {}
      },
      "source": [
        "def evaluate(model, iterator, criterion):\n",
        "    \n",
        "    model.eval()\n",
        "    \n",
        "    epoch_loss = 0\n",
        "    \n",
        "    with torch.no_grad():\n",
        "    \n",
        "        for i, batch in enumerate(iterator):\n",
        "\n",
        "            src, src_len = batch.Sensor\n",
        "            trg = batch.Activity\n",
        "\n",
        "            output = model(src, src_len, trg, 0) #turn off teacher forcing\n",
        "            \n",
        "            #trg = [trg len, batch size]\n",
        "            #output = [trg len, batch size, output dim]\n",
        "\n",
        "            output_dim = output.shape[-1]\n",
        "            \n",
        "            output = output[1:].view(-1, output_dim)\n",
        "            trg = trg[1:].view(-1)\n",
        "\n",
        "            #trg = [(trg len - 1) * batch size]\n",
        "            #output = [(trg len - 1) * batch size, output dim]\n",
        "\n",
        "            loss = criterion(output, trg)\n",
        "\n",
        "            epoch_loss += loss.item()\n",
        "        \n",
        "    return epoch_loss / len(iterator)"
      ],
      "execution_count": 13,
      "outputs": []
    },
    {
      "cell_type": "markdown",
      "metadata": {
        "id": "wOfxanRm1fdi",
        "colab_type": "text"
      },
      "source": [
        "Then, we'll define a useful function for timing how long epochs take."
      ]
    },
    {
      "cell_type": "code",
      "metadata": {
        "id": "rydPv73K1fdj",
        "colab_type": "code",
        "colab": {}
      },
      "source": [
        "def epoch_time(start_time, end_time):\n",
        "    elapsed_time = end_time - start_time\n",
        "    elapsed_mins = int(elapsed_time / 60)\n",
        "    elapsed_secs = int(elapsed_time - (elapsed_mins * 60))\n",
        "    return elapsed_mins, elapsed_secs"
      ],
      "execution_count": 14,
      "outputs": []
    },
    {
      "cell_type": "markdown",
      "metadata": {
        "id": "2LQLRTnP1fdl",
        "colab_type": "text"
      },
      "source": [
        "## Inference\n",
        "\n",
        "Now we can use our trained model to generate translations.\n",
        "\n",
        "**Note:** these translations will be poor compared to examples shown in paper as they use hidden dimension sizes of 1000 and train for 4 days! They have been cherry picked in order to show off what attention should look like on a sufficiently sized model.\n",
        "\n",
        "Our `translate_sentence` will do the following:\n",
        "- ensure our model is in evaluation mode, which it should always be for inference\n",
        "- tokenize the source sentence if it has not been tokenized (is a string)\n",
        "- numericalize the source sentence\n",
        "- convert it to a tensor and add a batch dimension\n",
        "- get the length of the source sentence and convert to a tensor\n",
        "- feed the source sentence into the encoder\n",
        "- create the mask for the source sentence\n",
        "- create a list to hold the output sentence, initialized with an `<sos>` token\n",
        "- create a tensor to hold the attention values\n",
        "- while we have not hit a maximum length\n",
        "  - get the input tensor, which should be either `<sos>` or the last predicted token\n",
        "  - feed the input, all encoder outputs, hidden state and mask into the decoder\n",
        "  - store attention values\n",
        "  - get the predicted next token\n",
        "  - add prediction to current output sentence prediction\n",
        "  - break if the prediction was an `<eos>` token\n",
        "- convert the output sentence from indexes to tokens\n",
        "- return the output sentence (with the `<sos>` token removed) and the attention values over the sequence"
      ]
    },
    {
      "cell_type": "code",
      "metadata": {
        "id": "GpWlxzUL1fdm",
        "colab_type": "code",
        "colab": {}
      },
      "source": [
        "def translate_sentence(sentence, src_field, trg_field, model, device, max_len = 50):\n",
        "\n",
        "    model.eval()\n",
        "        \n",
        "    # if isinstance(sentence, str):\n",
        "    #     nlp = spacy.load('de')\n",
        "    #     tokens = [token.text.lower() for token in nlp(sentence)]\n",
        "    # else:\n",
        "    tokens = [token.lower() for token in sentence]\n",
        "    tokens = [src_field.init_token] + tokens + [src_field.eos_token]\n",
        "    src_indexes = [src_field.vocab.stoi[token] for token in tokens]\n",
        "    \n",
        "    src_tensor = torch.LongTensor(src_indexes).unsqueeze(1).to(device)\n",
        "\n",
        "    src_len = torch.LongTensor([len(src_indexes)]).to(device)\n",
        "    \n",
        "    with torch.no_grad():\n",
        "        encoder_outputs, hidden = model.encoder(src_tensor, src_len)\n",
        "\n",
        "    mask = model.create_mask(src_tensor)\n",
        "        \n",
        "    trg_indexes = [trg_field.vocab.stoi[trg_field.init_token]]\n",
        "\n",
        "    attentions = torch.zeros(max_len, 1, len(src_indexes)).to(device)\n",
        "    \n",
        "    for i in range(max_len):\n",
        "\n",
        "        trg_tensor = torch.LongTensor([trg_indexes[-1]]).to(device)\n",
        "                \n",
        "        with torch.no_grad():\n",
        "            output, hidden, attention = model.decoder(trg_tensor, hidden, encoder_outputs, mask)\n",
        "\n",
        "        attentions[i] = attention\n",
        "            \n",
        "        pred_token = output.argmax(1).item()\n",
        "        \n",
        "        trg_indexes.append(pred_token)\n",
        "\n",
        "        if pred_token == trg_field.vocab.stoi[trg_field.eos_token]:\n",
        "            break\n",
        "    \n",
        "    trg_tokens = [trg_field.vocab.itos[i] for i in trg_indexes]\n",
        "    \n",
        "    return trg_tokens[1:], attentions[:len(trg_tokens)-1]"
      ],
      "execution_count": 15,
      "outputs": []
    },
    {
      "cell_type": "markdown",
      "metadata": {
        "id": "vsj_BFAZ1fdp",
        "colab_type": "text"
      },
      "source": [
        "Next, we'll make a function that displays the model's attention over the source sentence for each target token generated."
      ]
    },
    {
      "cell_type": "code",
      "metadata": {
        "id": "VdGPs9LK1fdq",
        "colab_type": "code",
        "colab": {}
      },
      "source": [
        "def display_attention(sentence, translation, attention):\n",
        "    \n",
        "    fig = plt.figure(figsize=(10,10))\n",
        "    ax = fig.add_subplot(111)\n",
        "    \n",
        "    attention = attention.squeeze(1).cpu().detach().numpy()\n",
        "    \n",
        "    cax = ax.matshow(attention, cmap='bone')\n",
        "   \n",
        "    ax.tick_params(labelsize=15)\n",
        "    ax.set_xticklabels(['']+['<sos>']+[t.lower() for t in sentence]+['<eos>'], \n",
        "                       rotation=45)\n",
        "    ax.set_yticklabels(['']+translation)\n",
        "\n",
        "    ax.xaxis.set_major_locator(ticker.MultipleLocator(1))\n",
        "    ax.yaxis.set_major_locator(ticker.MultipleLocator(1))\n",
        "\n",
        "    plt.show()\n",
        "    plt.close()"
      ],
      "execution_count": 16,
      "outputs": []
    },
    {
      "cell_type": "markdown",
      "metadata": {
        "id": "VTz8C9BD1fdy",
        "colab_type": "text"
      },
      "source": [
        "Next, we handle the iterators.\n",
        "\n",
        "One quirk about packed padded sequences is that all elements in the batch need to be sorted by their non-padded lengths in descending order, i.e. the first sentence in the batch needs to be the longest. We use two arguments of the iterator to handle this, `sort_within_batch` which tells the iterator that the contents of the batch need to be sorted, and `sort_key` a function which tells the iterator how to sort the elements in the batch. Here, we sort by the length of the `src` sentence."
      ]
    },
    {
      "cell_type": "code",
      "metadata": {
        "id": "aPYPHOCP1fdy",
        "colab_type": "code",
        "colab": {}
      },
      "source": [
        "BATCH_SIZE = 128\n",
        "\n",
        "device = torch.device('cuda' if torch.cuda.is_available() else 'cpu')\n",
        "torch.cuda.empty_cache()\n",
        "train_iterator, valid_iterator, test_iterator = BucketIterator.splits(\n",
        "    (train_data, valid_data, test_data), \n",
        "     batch_size = BATCH_SIZE,\n",
        "     sort_within_batch = True,\n",
        "     sort_key = lambda x : len(x.Sensor),\n",
        "     device = device)"
      ],
      "execution_count": 18,
      "outputs": []
    },
    {
      "cell_type": "markdown",
      "metadata": {
        "id": "2hf_biBd1fd1",
        "colab_type": "text"
      },
      "source": [
        "## Training the Seq2Seq Model\n",
        "\n",
        "Next up, initializing the model and placing it on the GPU."
      ]
    },
    {
      "cell_type": "markdown",
      "metadata": {
        "id": "GaNU7Q211fd2",
        "colab_type": "text"
      },
      "source": [
        "Then we define our optimizer and criterion. \n",
        "\n",
        "The `ignore_index` for the criterion needs to be the index of the pad token for the target language, not the source language."
      ]
    },
    {
      "cell_type": "code",
      "metadata": {
        "id": "GvYo7j6w1fd2",
        "colab_type": "code",
        "colab": {}
      },
      "source": [
        "# Model parameters\n",
        "INPUT_DIM = len(SRC.vocab)\n",
        "OUTPUT_DIM = len(TRG.vocab)\n",
        "ENC_EMB_DIM = 350\n",
        "DEC_EMB_DIM = 170\n",
        "ENC_HID_DIM = 512\n",
        "DEC_HID_DIM = 512\n",
        "ENC_DROPOUT = 0.5\n",
        "DEC_DROPOUT = 0.5\n",
        "SRC_PAD_IDX = SRC.vocab.stoi[SRC.pad_token]\n",
        "\n",
        "# Model Definition\n",
        "attn = Attention(ENC_HID_DIM, DEC_HID_DIM)\n",
        "enc = Encoder(INPUT_DIM, ENC_EMB_DIM, ENC_HID_DIM, DEC_HID_DIM, ENC_DROPOUT)\n",
        "dec = Decoder(OUTPUT_DIM, DEC_EMB_DIM, ENC_HID_DIM, DEC_HID_DIM, DEC_DROPOUT, attn)\n",
        "model = Seq2Seq(enc, dec, SRC_PAD_IDX, device).to(device)\n",
        "model.apply(init_weights)\n",
        "\n",
        "# Training parameters\n",
        "max_lr = 0.01\n",
        "weight_decay = 1e-4\n",
        "N_EPOCHS = 100\n",
        "CLIP = 1\n",
        "optimizer = optim.Adam(model.parameters(), lr = 1e-4, betas=(0.9, 0.999), weight_decay=weight_decay)\n",
        "TRG_PAD_IDX = TRG.vocab.stoi[TRG.pad_token]\n",
        "criterion = nn.CrossEntropyLoss(ignore_index = TRG_PAD_IDX)\n",
        "steps_per_epoch=len(train_iterator)\n",
        "sched = torch.optim.lr_scheduler.OneCycleLR(optimizer, max_lr, epochs=N_EPOCHS, \n",
        "                                                steps_per_epoch=steps_per_epoch)"
      ],
      "execution_count": 19,
      "outputs": []
    },
    {
      "cell_type": "markdown",
      "metadata": {
        "id": "vXwLYOGk1fd5",
        "colab_type": "text"
      },
      "source": [
        "We'll print out the number of trainable parameters in the model, noticing that it has the exact same amount of parameters as the model without these improvements."
      ]
    },
    {
      "cell_type": "code",
      "metadata": {
        "id": "JPQkmpyO1fd6",
        "colab_type": "code",
        "colab": {
          "base_uri": "https://localhost:8080/",
          "height": 35
        },
        "outputId": "fc4d4d46-2c53-4414-a820-6570f37a14f2"
      },
      "source": [
        "def count_parameters(model):\n",
        "    return sum(p.numel() for p in model.parameters() if p.requires_grad)\n",
        "\n",
        "print(f'The model has {count_parameters(model):,} trainable parameters')"
      ],
      "execution_count": 20,
      "outputs": [
        {
          "output_type": "stream",
          "text": [
            "The model has 8,610,742 trainable parameters\n"
          ],
          "name": "stdout"
        }
      ]
    },
    {
      "cell_type": "markdown",
      "metadata": {
        "id": "wo2tFW6v1fd8",
        "colab_type": "text"
      },
      "source": [
        "The penultimate step is to train our model. Notice how it takes almost half the time as our model without the improvements added in this notebook."
      ]
    },
    {
      "cell_type": "code",
      "metadata": {
        "id": "pdDPDeXe1fd9",
        "colab_type": "code",
        "colab": {
          "base_uri": "https://localhost:8080/",
          "height": 1000
        },
        "outputId": "9220ae5a-baaa-42f6-d67d-8dd1b7b02481"
      },
      "source": [
        "best_valid_loss = float('inf')\n",
        "\n",
        "for epoch in range(N_EPOCHS):\n",
        "    \n",
        "    start_time = time.time()\n",
        "    \n",
        "    train_loss = train(model, train_iterator, optimizer, criterion, CLIP)\n",
        "    valid_loss = evaluate(model, valid_iterator, criterion)\n",
        "    \n",
        "    end_time = time.time()\n",
        "    \n",
        "    epoch_mins, epoch_secs = epoch_time(start_time, end_time)\n",
        "    \n",
        "    if valid_loss < best_valid_loss:\n",
        "        best_valid_loss = valid_loss\n",
        "        torch.save(model.state_dict(), 'tut4-model.pt')\n",
        "    \n",
        "    print(f'Epoch: {epoch+1:02} | Time: {epoch_mins}m {epoch_secs}s')\n",
        "    print(f'\\tTrain Loss: {train_loss:.3f} | Train PPL: {math.exp(train_loss):7.3f}')\n",
        "    print(f'\\t Val. Loss: {valid_loss:.3f} |  Val. PPL: {math.exp(valid_loss):7.3f}')\n",
        "    print(\"Learning rate: \", sched.get_lr())"
      ],
      "execution_count": 21,
      "outputs": [
        {
          "output_type": "stream",
          "text": [
            "Epoch: 01 | Time: 0m 58s\n",
            "\tTrain Loss: 1.777 | Train PPL:   5.914\n",
            "\t Val. Loss: 2.054 |  Val. PPL:   7.802\n",
            "Learning rate:  [0.00042630491303872337]\n"
          ],
          "name": "stdout"
        },
        {
          "output_type": "stream",
          "text": [
            "/usr/local/lib/python3.6/dist-packages/torch/optim/lr_scheduler.py:1206: UserWarning: To get the last learning rate computed by the scheduler, please use `get_last_lr()`.\n",
            "  \"please use `get_last_lr()`.\", UserWarning)\n"
          ],
          "name": "stderr"
        },
        {
          "output_type": "stream",
          "text": [
            "Epoch: 02 | Time: 0m 58s\n",
            "\tTrain Loss: 0.729 | Train PPL:   2.073\n",
            "\t Val. Loss: 2.460 |  Val. PPL:  11.707\n",
            "Learning rate:  [0.0005049313403007391]\n",
            "Epoch: 03 | Time: 0m 58s\n",
            "\tTrain Loss: 0.545 | Train PPL:   1.724\n",
            "\t Val. Loss: 2.651 |  Val. PPL:  14.162\n",
            "Learning rate:  [0.0006350175062311836]\n",
            "Epoch: 04 | Time: 0m 58s\n",
            "\tTrain Loss: 0.522 | Train PPL:   1.686\n",
            "\t Val. Loss: 2.282 |  Val. PPL:   9.793\n",
            "Learning rate:  [0.000815137616962414]\n",
            "Epoch: 05 | Time: 0m 58s\n",
            "\tTrain Loss: 0.488 | Train PPL:   1.630\n",
            "\t Val. Loss: 2.567 |  Val. PPL:  13.021\n",
            "Learning rate:  [0.001043317487557217]\n",
            "Epoch: 06 | Time: 0m 58s\n",
            "\tTrain Loss: 0.477 | Train PPL:   1.611\n",
            "\t Val. Loss: 2.336 |  Val. PPL:  10.344\n",
            "Learning rate:  [0.0013170561798267685]\n",
            "Epoch: 07 | Time: 0m 58s\n",
            "\tTrain Loss: 0.435 | Train PPL:   1.545\n",
            "\t Val. Loss: 2.014 |  Val. PPL:   7.490\n",
            "Learning rate:  [0.0016333534135646137]\n",
            "Epoch: 08 | Time: 0m 58s\n",
            "\tTrain Loss: 0.460 | Train PPL:   1.584\n",
            "\t Val. Loss: 2.283 |  Val. PPL:   9.807\n",
            "Learning rate:  [0.0019887424507591452]\n",
            "Epoch: 09 | Time: 0m 58s\n",
            "\tTrain Loss: 0.498 | Train PPL:   1.646\n",
            "\t Val. Loss: 2.071 |  Val. PPL:   7.931\n",
            "Learning rate:  [0.0023793280923610624]\n",
            "Epoch: 10 | Time: 0m 58s\n",
            "\tTrain Loss: 0.464 | Train PPL:   1.590\n",
            "\t Val. Loss: 1.786 |  Val. PPL:   5.967\n",
            "Learning rate:  [0.0028008293711468185]\n",
            "Epoch: 11 | Time: 0m 58s\n",
            "\tTrain Loss: 0.442 | Train PPL:   1.555\n",
            "\t Val. Loss: 2.148 |  Val. PPL:   8.569\n",
            "Learning rate:  [0.00324862647274801]\n",
            "Epoch: 12 | Time: 0m 58s\n",
            "\tTrain Loss: 0.448 | Train PPL:   1.565\n",
            "\t Val. Loss: 2.078 |  Val. PPL:   7.988\n",
            "Learning rate:  [0.0037178113705743816]\n",
            "Epoch: 13 | Time: 0m 58s\n",
            "\tTrain Loss: 0.430 | Train PPL:   1.538\n",
            "\t Val. Loss: 1.941 |  Val. PPL:   6.964\n",
            "Learning rate:  [0.004203241619652432]\n",
            "Epoch: 14 | Time: 0m 58s\n",
            "\tTrain Loss: 0.443 | Train PPL:   1.557\n",
            "\t Val. Loss: 1.859 |  Val. PPL:   6.418\n",
            "Learning rate:  [0.004699596719778674]\n",
            "Epoch: 15 | Time: 0m 58s\n",
            "\tTrain Loss: 0.452 | Train PPL:   1.571\n",
            "\t Val. Loss: 2.007 |  Val. PPL:   7.442\n",
            "Learning rate:  [0.005201436430225962]\n",
            "Epoch: 16 | Time: 0m 58s\n",
            "\tTrain Loss: 0.430 | Train PPL:   1.537\n",
            "\t Val. Loss: 1.929 |  Val. PPL:   6.880\n",
            "Learning rate:  [0.00570326039685151]\n",
            "Epoch: 17 | Time: 0m 58s\n",
            "\tTrain Loss: 0.404 | Train PPL:   1.498\n",
            "\t Val. Loss: 2.139 |  Val. PPL:   8.490\n",
            "Learning rate:  [0.006199568438070802]\n",
            "Epoch: 18 | Time: 0m 57s\n",
            "\tTrain Loss: 0.430 | Train PPL:   1.537\n",
            "\t Val. Loss: 1.978 |  Val. PPL:   7.231\n",
            "Learning rate:  [0.006684920828940218]\n",
            "Epoch: 19 | Time: 0m 57s\n",
            "\tTrain Loss: 0.398 | Train PPL:   1.488\n",
            "\t Val. Loss: 1.976 |  Val. PPL:   7.216\n",
            "Learning rate:  [0.007153997922611856]\n",
            "Epoch: 20 | Time: 0m 58s\n",
            "\tTrain Loss: 0.390 | Train PPL:   1.477\n",
            "\t Val. Loss: 1.916 |  Val. PPL:   6.792\n",
            "Learning rate:  [0.007601658455686763]\n",
            "Epoch: 21 | Time: 0m 57s\n",
            "\tTrain Loss: 1.795 | Train PPL:   6.021\n",
            "\t Val. Loss: 4.109 |  Val. PPL:  60.886\n",
            "Learning rate:  [0.008022995898417692]\n",
            "Epoch: 22 | Time: 0m 57s\n",
            "\tTrain Loss: 1.408 | Train PPL:   4.087\n",
            "\t Val. Loss: 2.701 |  Val. PPL:  14.889\n",
            "Learning rate:  [0.008413392232141721]\n",
            "Epoch: 23 | Time: 0m 57s\n",
            "\tTrain Loss: 1.170 | Train PPL:   3.221\n",
            "\t Val. Loss: 3.339 |  Val. PPL:  28.202\n",
            "Learning rate:  [0.008768568564521668]\n",
            "Epoch: 24 | Time: 0m 57s\n",
            "\tTrain Loss: 1.502 | Train PPL:   4.489\n",
            "\t Val. Loss: 3.530 |  Val. PPL:  34.132\n",
            "Learning rate:  [0.009084632027833921]\n",
            "Epoch: 25 | Time: 0m 57s\n",
            "\tTrain Loss: 1.001 | Train PPL:   2.721\n",
            "\t Val. Loss: 3.355 |  Val. PPL:  28.652\n",
            "Learning rate:  [0.009358118446279666]\n",
            "Epoch: 26 | Time: 0m 57s\n",
            "\tTrain Loss: 1.931 | Train PPL:   6.897\n",
            "\t Val. Loss: 4.947 |  Val. PPL: 140.795\n",
            "Learning rate:  [0.009586030304669538]\n",
            "Epoch: 27 | Time: 0m 57s\n",
            "\tTrain Loss: 2.435 | Train PPL:  11.411\n",
            "\t Val. Loss: 3.000 |  Val. PPL:  20.094\n",
            "Learning rate:  [0.009765869602330434]\n",
            "Epoch: 28 | Time: 0m 58s\n",
            "\tTrain Loss: 1.397 | Train PPL:   4.042\n",
            "\t Val. Loss: 2.727 |  Val. PPL:  15.293\n",
            "Learning rate:  [0.009895665232143224]\n",
            "Epoch: 29 | Time: 0m 57s\n",
            "\tTrain Loss: 1.155 | Train PPL:   3.176\n",
            "\t Val. Loss: 2.612 |  Val. PPL:  13.630\n",
            "Learning rate:  [0.009973994584626644]\n",
            "Epoch: 30 | Time: 0m 58s\n",
            "\tTrain Loss: 0.909 | Train PPL:   2.481\n",
            "\t Val. Loss: 2.810 |  Val. PPL:  16.606\n",
            "Learning rate:  [0.009999999835575762]\n",
            "Epoch: 31 | Time: 0m 58s\n",
            "\tTrain Loss: 0.889 | Train PPL:   2.434\n",
            "\t Val. Loss: 1.888 |  Val. PPL:   6.607\n",
            "Learning rate:  [0.009994907659420814]\n",
            "Epoch: 32 | Time: 0m 58s\n",
            "\tTrain Loss: 1.054 | Train PPL:   2.868\n",
            "\t Val. Loss: 2.442 |  Val. PPL:  11.496\n",
            "Learning rate:  [0.009979756444252575]\n",
            "Epoch: 33 | Time: 0m 58s\n",
            "\tTrain Loss: 0.805 | Train PPL:   2.236\n",
            "\t Val. Loss: 2.527 |  Val. PPL:  12.513\n",
            "Learning rate:  [0.00995457670260203]\n",
            "Epoch: 34 | Time: 0m 58s\n",
            "\tTrain Loss: 0.792 | Train PPL:   2.209\n",
            "\t Val. Loss: 2.151 |  Val. PPL:   8.596\n",
            "Learning rate:  [0.009919419143117877]\n",
            "Epoch: 35 | Time: 0m 57s\n",
            "\tTrain Loss: 0.812 | Train PPL:   2.253\n",
            "\t Val. Loss: 3.709 |  Val. PPL:  40.810\n",
            "Learning rate:  [0.009874354568446058]\n",
            "Epoch: 36 | Time: 0m 57s\n",
            "\tTrain Loss: 0.747 | Train PPL:   2.112\n",
            "\t Val. Loss: 2.182 |  Val. PPL:   8.868\n",
            "Learning rate:  [0.009819473732642648]\n",
            "Epoch: 37 | Time: 0m 58s\n",
            "\tTrain Loss: 1.221 | Train PPL:   3.391\n",
            "\t Val. Loss: 4.751 |  Val. PPL: 115.676\n",
            "Learning rate:  [0.00975488715840727]\n",
            "Epoch: 38 | Time: 0m 57s\n",
            "\tTrain Loss: 2.046 | Train PPL:   7.736\n",
            "\t Val. Loss: 3.350 |  Val. PPL:  28.489\n",
            "Learning rate:  [0.009680724914505086]\n",
            "Epoch: 39 | Time: 0m 57s\n",
            "\tTrain Loss: 1.259 | Train PPL:   3.521\n",
            "\t Val. Loss: 4.617 |  Val. PPL: 101.162\n",
            "Learning rate:  [0.009597136353825603]\n",
            "Epoch: 40 | Time: 0m 57s\n",
            "\tTrain Loss: 0.975 | Train PPL:   2.651\n",
            "\t Val. Loss: 3.623 |  Val. PPL:  37.464\n",
            "Learning rate:  [0.009504289812605848]\n",
            "Epoch: 41 | Time: 0m 58s\n",
            "\tTrain Loss: 0.765 | Train PPL:   2.148\n",
            "\t Val. Loss: 2.104 |  Val. PPL:   8.201\n",
            "Learning rate:  [0.009402372271423574]\n",
            "Epoch: 42 | Time: 0m 58s\n",
            "\tTrain Loss: 0.666 | Train PPL:   1.947\n",
            "\t Val. Loss: 2.050 |  Val. PPL:   7.771\n",
            "Learning rate:  [0.009291588978643269]\n",
            "Epoch: 43 | Time: 0m 57s\n",
            "\tTrain Loss: 0.572 | Train PPL:   1.772\n",
            "\t Val. Loss: 2.278 |  Val. PPL:   9.759\n",
            "Learning rate:  [0.009172163037073258]\n",
            "Epoch: 44 | Time: 0m 58s\n",
            "\tTrain Loss: 0.659 | Train PPL:   1.933\n",
            "\t Val. Loss: 2.503 |  Val. PPL:  12.213\n",
            "Learning rate:  [0.009044334954666349]\n",
            "Epoch: 45 | Time: 0m 58s\n",
            "\tTrain Loss: 0.563 | Train PPL:   1.756\n",
            "\t Val. Loss: 2.263 |  Val. PPL:   9.612\n",
            "Learning rate:  [0.008908362160168808]\n",
            "Epoch: 46 | Time: 0m 58s\n",
            "\tTrain Loss: 0.518 | Train PPL:   1.679\n",
            "\t Val. Loss: 2.034 |  Val. PPL:   7.641\n",
            "Learning rate:  [0.008764518484693139]\n",
            "Epoch: 47 | Time: 0m 58s\n",
            "\tTrain Loss: 0.431 | Train PPL:   1.539\n",
            "\t Val. Loss: 1.944 |  Val. PPL:   6.990\n",
            "Learning rate:  [0.008613093610258655]\n",
            "Epoch: 48 | Time: 0m 58s\n",
            "\tTrain Loss: 0.418 | Train PPL:   1.518\n",
            "\t Val. Loss: 2.073 |  Val. PPL:   7.946\n",
            "Learning rate:  [0.008454392486410445]\n",
            "Epoch: 49 | Time: 0m 58s\n",
            "\tTrain Loss: 0.568 | Train PPL:   1.765\n",
            "\t Val. Loss: 2.993 |  Val. PPL:  19.938\n",
            "Learning rate:  [0.008288734716091576]\n",
            "Epoch: 50 | Time: 0m 57s\n",
            "\tTrain Loss: 1.961 | Train PPL:   7.108\n",
            "\t Val. Loss: 3.508 |  Val. PPL:  33.379\n",
            "Learning rate:  [0.008116453912005302]\n",
            "Epoch: 51 | Time: 0m 57s\n",
            "\tTrain Loss: 1.131 | Train PPL:   3.097\n",
            "\t Val. Loss: 4.740 |  Val. PPL: 114.467\n",
            "Learning rate:  [0.007937897024763468]\n",
            "Epoch: 52 | Time: 0m 58s\n",
            "\tTrain Loss: 1.210 | Train PPL:   3.353\n",
            "\t Val. Loss: 2.057 |  Val. PPL:   7.825\n",
            "Learning rate:  [0.00775342364417416]\n",
            "Epoch: 53 | Time: 0m 58s\n",
            "\tTrain Loss: 0.794 | Train PPL:   2.212\n",
            "\t Val. Loss: 1.989 |  Val. PPL:   7.309\n",
            "Learning rate:  [0.007563405275075681]\n",
            "Epoch: 54 | Time: 0m 58s\n",
            "\tTrain Loss: 0.644 | Train PPL:   1.905\n",
            "\t Val. Loss: 2.295 |  Val. PPL:   9.925\n",
            "Learning rate:  [0.007368224589175251]\n",
            "Epoch: 55 | Time: 0m 58s\n",
            "\tTrain Loss: 0.553 | Train PPL:   1.738\n",
            "\t Val. Loss: 2.544 |  Val. PPL:  12.730\n",
            "Learning rate:  [0.007168274654399116]\n",
            "Epoch: 56 | Time: 0m 58s\n",
            "\tTrain Loss: 0.447 | Train PPL:   1.564\n",
            "\t Val. Loss: 1.857 |  Val. PPL:   6.405\n",
            "Learning rate:  [0.006963958143306051]\n",
            "Epoch: 57 | Time: 0m 58s\n",
            "\tTrain Loss: 0.372 | Train PPL:   1.450\n",
            "\t Val. Loss: 2.040 |  Val. PPL:   7.687\n",
            "Learning rate:  [0.006755686522158421]\n",
            "Epoch: 58 | Time: 0m 58s\n",
            "\tTrain Loss: 0.400 | Train PPL:   1.493\n",
            "\t Val. Loss: 1.744 |  Val. PPL:   5.721\n",
            "Learning rate:  [0.0065438792222838795]\n",
            "Epoch: 59 | Time: 0m 58s\n",
            "\tTrain Loss: 0.362 | Train PPL:   1.436\n",
            "\t Val. Loss: 1.775 |  Val. PPL:   5.902\n",
            "Learning rate:  [0.0063289627953965035]\n",
            "Epoch: 60 | Time: 0m 58s\n",
            "\tTrain Loss: 0.302 | Train PPL:   1.353\n",
            "\t Val. Loss: 1.880 |  Val. PPL:   6.554\n",
            "Learning rate:  [0.006111370054578401]\n",
            "Epoch: 61 | Time: 0m 58s\n",
            "\tTrain Loss: 0.290 | Train PPL:   1.336\n",
            "\t Val. Loss: 1.989 |  Val. PPL:   7.312\n",
            "Learning rate:  [0.005891539202651764]\n",
            "Epoch: 62 | Time: 0m 58s\n",
            "\tTrain Loss: 0.264 | Train PPL:   1.302\n",
            "\t Val. Loss: 1.742 |  Val. PPL:   5.706\n",
            "Learning rate:  [0.005669912949696707]\n",
            "Epoch: 63 | Time: 0m 58s\n",
            "\tTrain Loss: 0.230 | Train PPL:   1.259\n",
            "\t Val. Loss: 1.818 |  Val. PPL:   6.158\n",
            "Learning rate:  [0.005446937621492074]\n",
            "Epoch: 64 | Time: 0m 58s\n",
            "\tTrain Loss: 0.222 | Train PPL:   1.248\n",
            "\t Val. Loss: 1.571 |  Val. PPL:   4.810\n",
            "Learning rate:  [0.00522306226067473]\n",
            "Epoch: 65 | Time: 0m 58s\n",
            "\tTrain Loss: 0.377 | Train PPL:   1.457\n",
            "\t Val. Loss: 1.639 |  Val. PPL:   5.151\n",
            "Learning rate:  [0.004998737722427434]\n",
            "Epoch: 66 | Time: 0m 58s\n",
            "\tTrain Loss: 0.265 | Train PPL:   1.303\n",
            "\t Val. Loss: 1.785 |  Val. PPL:   5.961\n",
            "Learning rate:  [0.004774415766516525]\n",
            "Epoch: 67 | Time: 0m 58s\n",
            "\tTrain Loss: 0.228 | Train PPL:   1.256\n",
            "\t Val. Loss: 1.627 |  Val. PPL:   5.089\n",
            "Learning rate:  [0.004550548147507844]\n",
            "Epoch: 68 | Time: 0m 58s\n",
            "\tTrain Loss: 0.197 | Train PPL:   1.217\n",
            "\t Val. Loss: 1.866 |  Val. PPL:   6.460\n",
            "Learning rate:  [0.004327585704993189]\n",
            "Epoch: 69 | Time: 0m 57s\n",
            "\tTrain Loss: 0.188 | Train PPL:   1.207\n",
            "\t Val. Loss: 1.524 |  Val. PPL:   4.593\n",
            "Learning rate:  [0.0041059774556593525]\n",
            "Epoch: 70 | Time: 0m 57s\n",
            "\tTrain Loss: 0.180 | Train PPL:   1.198\n",
            "\t Val. Loss: 1.798 |  Val. PPL:   6.040\n",
            "Learning rate:  [0.0038861696890282855]\n",
            "Epoch: 71 | Time: 0m 58s\n",
            "\tTrain Loss: 0.188 | Train PPL:   1.207\n",
            "\t Val. Loss: 1.462 |  Val. PPL:   4.315\n",
            "Learning rate:  [0.0036686050686893885]\n",
            "Epoch: 72 | Time: 0m 57s\n",
            "\tTrain Loss: 0.164 | Train PPL:   1.179\n",
            "\t Val. Loss: 1.595 |  Val. PPL:   4.928\n",
            "Learning rate:  [0.0034537217408339487]\n",
            "Epoch: 73 | Time: 0m 57s\n",
            "\tTrain Loss: 0.179 | Train PPL:   1.196\n",
            "\t Val. Loss: 1.486 |  Val. PPL:   4.418\n",
            "Learning rate:  [0.0032419524518870323]\n",
            "Epoch: 74 | Time: 0m 57s\n",
            "\tTrain Loss: 0.204 | Train PPL:   1.226\n",
            "\t Val. Loss: 1.633 |  Val. PPL:   5.118\n",
            "Learning rate:  [0.0030337236770137644]\n",
            "Epoch: 75 | Time: 0m 58s\n",
            "\tTrain Loss: 0.171 | Train PPL:   1.187\n",
            "\t Val. Loss: 1.504 |  Val. PPL:   4.498\n",
            "Learning rate:  [0.0028294547612551057]\n",
            "Epoch: 76 | Time: 0m 58s\n",
            "\tTrain Loss: 0.149 | Train PPL:   1.161\n",
            "\t Val. Loss: 1.507 |  Val. PPL:   4.515\n",
            "Learning rate:  [0.0026295570750227504]\n",
            "Epoch: 77 | Time: 0m 58s\n",
            "\tTrain Loss: 0.156 | Train PPL:   1.169\n",
            "\t Val. Loss: 1.250 |  Val. PPL:   3.491\n",
            "Learning rate:  [0.00243443318565386]\n",
            "Epoch: 78 | Time: 0m 58s\n",
            "\tTrain Loss: 0.138 | Train PPL:   1.148\n",
            "\t Val. Loss: 1.504 |  Val. PPL:   4.498\n",
            "Learning rate:  [0.0022444760466940245]\n",
            "Epoch: 79 | Time: 0m 58s\n",
            "\tTrain Loss: 0.129 | Train PPL:   1.138\n",
            "\t Val. Loss: 1.413 |  Val. PPL:   4.107\n",
            "Learning rate:  [0.0020600682065411127]\n",
            "Epoch: 80 | Time: 0m 58s\n",
            "\tTrain Loss: 0.137 | Train PPL:   1.147\n",
            "\t Val. Loss: 1.388 |  Val. PPL:   4.008\n",
            "Learning rate:  [0.0018815810380437119]\n",
            "Epoch: 81 | Time: 0m 58s\n",
            "\tTrain Loss: 0.139 | Train PPL:   1.149\n",
            "\t Val. Loss: 1.407 |  Val. PPL:   4.085\n",
            "Learning rate:  [0.0017093739906056352]\n",
            "Epoch: 82 | Time: 0m 57s\n",
            "\tTrain Loss: 0.123 | Train PPL:   1.131\n",
            "\t Val. Loss: 1.267 |  Val. PPL:   3.549\n",
            "Learning rate:  [0.0015437938663026556]\n",
            "Epoch: 83 | Time: 0m 58s\n",
            "\tTrain Loss: 0.125 | Train PPL:   1.134\n",
            "\t Val. Loss: 1.342 |  Val. PPL:   3.825\n",
            "Learning rate:  [0.0013851741214692813]\n",
            "Epoch: 84 | Time: 0m 58s\n",
            "\tTrain Loss: 0.116 | Train PPL:   1.123\n",
            "\t Val. Loss: 1.537 |  Val. PPL:   4.649\n",
            "Learning rate:  [0.0012338341951620734]\n",
            "Epoch: 85 | Time: 0m 57s\n",
            "\tTrain Loss: 0.129 | Train PPL:   1.137\n",
            "\t Val. Loss: 1.331 |  Val. PPL:   3.787\n",
            "Learning rate:  [0.0010900788658519003]\n",
            "Epoch: 86 | Time: 0m 58s\n",
            "\tTrain Loss: 0.116 | Train PPL:   1.123\n",
            "\t Val. Loss: 1.414 |  Val. PPL:   4.112\n",
            "Learning rate:  [0.0009541976376406547]\n",
            "Epoch: 87 | Time: 0m 58s\n",
            "\tTrain Loss: 0.103 | Train PPL:   1.108\n",
            "\t Val. Loss: 1.380 |  Val. PPL:   3.973\n",
            "Learning rate:  [0.000826464157238523]\n",
            "Epoch: 88 | Time: 0m 57s\n",
            "\tTrain Loss: 0.116 | Train PPL:   1.123\n",
            "\t Val. Loss: 1.347 |  Val. PPL:   3.847\n",
            "Learning rate:  [0.0007071356628759279]\n",
            "Epoch: 89 | Time: 0m 58s\n",
            "\tTrain Loss: 0.113 | Train PPL:   1.120\n",
            "\t Val. Loss: 1.229 |  Val. PPL:   3.418\n",
            "Learning rate:  [0.0005964524662599663]\n",
            "Epoch: 90 | Time: 0m 58s\n",
            "\tTrain Loss: 0.112 | Train PPL:   1.119\n",
            "\t Val. Loss: 1.278 |  Val. PPL:   3.589\n",
            "Learning rate:  [0.0004946374686186114]\n",
            "Epoch: 91 | Time: 0m 58s\n",
            "\tTrain Loss: 0.095 | Train PPL:   1.100\n",
            "\t Val. Loss: 1.388 |  Val. PPL:   4.005\n",
            "Learning rate:  [0.00040189571180730514]\n",
            "Epoch: 92 | Time: 0m 58s\n",
            "\tTrain Loss: 0.099 | Train PPL:   1.104\n",
            "\t Val. Loss: 1.254 |  Val. PPL:   3.503\n",
            "Learning rate:  [0.00031841396538194867]\n",
            "Epoch: 93 | Time: 0m 58s\n",
            "\tTrain Loss: 0.094 | Train PPL:   1.099\n",
            "\t Val. Loss: 1.284 |  Val. PPL:   3.610\n",
            "Learning rate:  [0.00024436035046987263]\n",
            "Epoch: 94 | Time: 0m 58s\n",
            "\tTrain Loss: 0.092 | Train PPL:   1.096\n",
            "\t Val. Loss: 1.343 |  Val. PPL:   3.830\n",
            "Learning rate:  [0.00017988400119626016]\n",
            "Epoch: 95 | Time: 0m 58s\n",
            "\tTrain Loss: 0.090 | Train PPL:   1.094\n",
            "\t Val. Loss: 1.302 |  Val. PPL:   3.678\n",
            "Learning rate:  [0.00012511476434786645]\n",
            "Epoch: 96 | Time: 0m 58s\n",
            "\tTrain Loss: 0.092 | Train PPL:   1.096\n",
            "\t Val. Loss: 1.323 |  Val. PPL:   3.756\n",
            "Learning rate:  [8.016293787886956e-05]\n",
            "Epoch: 97 | Time: 0m 58s\n",
            "\tTrain Loss: 0.085 | Train PPL:   1.089\n",
            "\t Val. Loss: 1.359 |  Val. PPL:   3.892\n",
            "Learning rate:  [4.5119048785470746e-05]\n",
            "Epoch: 98 | Time: 0m 58s\n",
            "\tTrain Loss: 0.088 | Train PPL:   1.092\n",
            "\t Val. Loss: 1.316 |  Val. PPL:   3.727\n",
            "Learning rate:  [2.005367079657179e-05]\n",
            "Epoch: 99 | Time: 0m 58s\n",
            "\tTrain Loss: 0.092 | Train PPL:   1.097\n",
            "\t Val. Loss: 1.300 |  Val. PPL:   3.669\n",
            "Learning rate:  [5.017282247675783e-06]\n",
            "Epoch: 100 | Time: 0m 58s\n",
            "\tTrain Loss: 0.091 | Train PPL:   1.095\n",
            "\t Val. Loss: 1.305 |  Val. PPL:   3.686\n",
            "Learning rate:  [4.016442423766625e-08]\n"
          ],
          "name": "stdout"
        }
      ]
    },
    {
      "cell_type": "code",
      "metadata": {
        "id": "lojC_8Uc1feA",
        "colab_type": "code",
        "colab": {}
      },
      "source": [
        "torch.save(model.state_dict(), 'tut4-model2-20.pt')"
      ],
      "execution_count": 22,
      "outputs": []
    },
    {
      "cell_type": "markdown",
      "metadata": {
        "id": "lz0r30kO1feD",
        "colab_type": "text"
      },
      "source": [
        "Finally, we load the parameters from our best validation loss and get our results on the test set.\n",
        "\n",
        "We get the improved test perplexity whilst almost being twice as fast!"
      ]
    },
    {
      "cell_type": "code",
      "metadata": {
        "id": "LiGPZtcj1feE",
        "colab_type": "code",
        "colab": {
          "base_uri": "https://localhost:8080/",
          "height": 35
        },
        "outputId": "1c121f20-1c42-4a4b-a0c7-947810030a77"
      },
      "source": [
        "model.load_state_dict(torch.load('tut4-model2-20.pt'))\n",
        "\n",
        "test_loss = evaluate(model, test_iterator, criterion)\n",
        "\n",
        "print(f'| Test Loss: {test_loss:.3f} | Test PPL: {math.exp(test_loss):7.3f} |')"
      ],
      "execution_count": 23,
      "outputs": [
        {
          "output_type": "stream",
          "text": [
            "| Test Loss: 1.415 | Test PPL:   4.116 |\n"
          ],
          "name": "stdout"
        }
      ]
    },
    {
      "cell_type": "markdown",
      "metadata": {
        "id": "t1Ek6gws1feH",
        "colab_type": "text"
      },
      "source": [
        "Now, we'll grab some translations from our dataset and see how well our model did. Note, we're going to cherry pick examples here so it gives us something interesting to look at, but feel free to change the `example_idx` value to look at different examples.\n",
        "\n",
        "First, we'll get a source and target from our dataset."
      ]
    },
    {
      "cell_type": "code",
      "metadata": {
        "id": "IPEloQmJ1feH",
        "colab_type": "code",
        "colab": {
          "base_uri": "https://localhost:8080/",
          "height": 53
        },
        "outputId": "b5c6c805-5cd7-4394-8045-f3d5fbde494c"
      },
      "source": [
        "example_idx = 12\n",
        "\n",
        "src = vars(train_data.examples[example_idx])['Sensor']\n",
        "trg = vars(train_data.examples[example_idx])['Activity']\n",
        "\n",
        "print(f'src = {src}')\n",
        "print(f'trg = {trg}')"
      ],
      "execution_count": 24,
      "outputs": [
        {
          "output_type": "stream",
          "text": [
            "src = ['1', '1', '1', '1', '1', '1', '1', '1', '1', '1', '1', '1', '1', '1', '1', '1', '1', '1', '1', '1', '1']\n",
            "trg = ['32', '32', '32', '32', '32', '32', '32', '32', '32', '32', '32', '32', '32', '32', '32', '32', '32', '32', '32', '32', '32']\n"
          ],
          "name": "stdout"
        }
      ]
    },
    {
      "cell_type": "markdown",
      "metadata": {
        "id": "Oq5qtohV1feK",
        "colab_type": "text"
      },
      "source": [
        "Then we'll use our `translate_sentence` function to get our predicted translation and attention. We show this graphically by having the source sentence on the x-axis and the predicted translation on the y-axis. The lighter the square at the intersection between two words, the more attention the model gave to that source word when translating that target word.\n",
        "\n",
        "Below is an example the model attempted to translate, it gets the translation correct except changes *are fighting* to just *fighting*."
      ]
    },
    {
      "cell_type": "code",
      "metadata": {
        "id": "VRKulpXr1feK",
        "colab_type": "code",
        "colab": {
          "base_uri": "https://localhost:8080/",
          "height": 35
        },
        "outputId": "e47656a8-0caf-46d7-e42f-722570024402"
      },
      "source": [
        "translation, attention = translate_sentence(src, SRC, TRG, model, device)\n",
        "\n",
        "print(f'predicted trg = {translation}')"
      ],
      "execution_count": 25,
      "outputs": [
        {
          "output_type": "stream",
          "text": [
            "predicted trg = ['106', '106', '106', '106', '106', '106', '106', '106', '106', '106', '106', '106', '106', '106', '106', '106', '106', '106', '106', '106', '106', '<eos>']\n"
          ],
          "name": "stdout"
        }
      ]
    },
    {
      "cell_type": "code",
      "metadata": {
        "id": "CmnHoz4Q1feN",
        "colab_type": "code",
        "colab": {
          "base_uri": "https://localhost:8080/",
          "height": 622
        },
        "outputId": "26731bec-18e0-43eb-99b5-cddad2f11744"
      },
      "source": [
        "display_attention(src, translation, attention)"
      ],
      "execution_count": 26,
      "outputs": [
        {
          "output_type": "display_data",
          "data": {
            "image/png": "[encoded data removed]",
            "text/plain": [
              "<Figure size 720x720 with 1 Axes>"
            ]
          },
          "metadata": {
            "tags": [],
            "needs_background": "light"
          }
        }
      ]
    },
    {
      "cell_type": "markdown",
      "metadata": {
        "id": "FdNhjn4x1feP",
        "colab_type": "text"
      },
      "source": [
        "Translations from the training set could simply be memorized by the model. So it's only fair we look at translations from the validation and testing set too.\n",
        "\n",
        "Starting with the validation set, let's get an example."
      ]
    },
    {
      "cell_type": "code",
      "metadata": {
        "id": "KnNjMEhu1feQ",
        "colab_type": "code",
        "colab": {
          "base_uri": "https://localhost:8080/",
          "height": 53
        },
        "outputId": "0550b4de-e820-4b76-c7b2-81be57d6ef58"
      },
      "source": [
        "example_idx = 14\n",
        "\n",
        "src = vars(valid_data.examples[example_idx])['Sensor']\n",
        "trg = vars(valid_data.examples[example_idx])['Activity']\n",
        "\n",
        "print(f'src = {src}')\n",
        "print(f'trg = {trg}')"
      ],
      "execution_count": 27,
      "outputs": [
        {
          "output_type": "stream",
          "text": [
            "src = ['1', '1', '1', '1', '1', '1', '1', '1', '1', '1', '1', '1', '1', '1', '1', '1', '1', '1', '1', '1', '1']\n",
            "trg = ['32', '32', '32', '32', '32', '32', '32', '32', '32', '32', '32', '32', '32', '32', '32', '32', '32', '32', '32', '32', '32']\n"
          ],
          "name": "stdout"
        }
      ]
    },
    {
      "cell_type": "markdown",
      "metadata": {
        "id": "cx7hp0Te1feT",
        "colab_type": "text"
      },
      "source": [
        "Then let's generate our translation and view the attention.\n",
        "\n",
        "Here, we can see the translation is the same except for swapping *female* with *woman*."
      ]
    },
    {
      "cell_type": "code",
      "metadata": {
        "id": "I2KA_m9o1feT",
        "colab_type": "code",
        "colab": {
          "base_uri": "https://localhost:8080/",
          "height": 640
        },
        "outputId": "22060f04-3f28-4070-bde7-ac916795cd7f"
      },
      "source": [
        "translation, attention = translate_sentence(src, SRC, TRG, model, device)\n",
        "\n",
        "print(f'predicted trg = {translation}')\n",
        "\n",
        "display_attention(src, translation, attention)"
      ],
      "execution_count": 28,
      "outputs": [
        {
          "output_type": "stream",
          "text": [
            "predicted trg = ['106', '106', '106', '106', '106', '106', '106', '106', '106', '106', '106', '106', '106', '106', '106', '106', '106', '106', '106', '106', '106', '<eos>']\n"
          ],
          "name": "stdout"
        },
        {
          "output_type": "display_data",
          "data": {
            "image/png": "[encoded data removed]",
            "text/plain": [
              "<Figure size 720x720 with 1 Axes>"
            ]
          },
          "metadata": {
            "tags": [],
            "needs_background": "light"
          }
        }
      ]
    },
    {
      "cell_type": "markdown",
      "metadata": {
        "id": "mwLjHka-1feW",
        "colab_type": "text"
      },
      "source": [
        "Finally, let's get an example from the test set."
      ]
    },
    {
      "cell_type": "code",
      "metadata": {
        "id": "m0sqt23O1feW",
        "colab_type": "code",
        "colab": {
          "base_uri": "https://localhost:8080/",
          "height": 53
        },
        "outputId": "53cf8fef-154f-48b6-9f8f-f8764c8cba2f"
      },
      "source": [
        "example_idx = 18\n",
        "\n",
        "src = vars(test_data.examples[example_idx])['Sensor']\n",
        "trg = vars(test_data.examples[example_idx])['Activity']\n",
        "\n",
        "print(f'src = {src}')\n",
        "print(f'trg = {trg}')"
      ],
      "execution_count": 29,
      "outputs": [
        {
          "output_type": "stream",
          "text": [
            "src = ['1', '1', '30', '1514', '1515', '139', '139', '186', '187', '188', '248', '1516', '1517', '18', '1', '1', '1', '1', '1', '1', '1']\n",
            "trg = ['32', '32', '32', '32', '32', '32', '32', '32', '32', '32', '32', '32', '32', '32', '32', '32', '32', '32', '32', '32', '32']\n"
          ],
          "name": "stdout"
        }
      ]
    },
    {
      "cell_type": "markdown",
      "metadata": {
        "id": "kA_9wr_z1feY",
        "colab_type": "text"
      },
      "source": [
        "Again, it produces a slightly different translation than target, a more literal version of the source sentence. It swaps *mountain climbing* for *climbing on a mountain*."
      ]
    },
    {
      "cell_type": "code",
      "metadata": {
        "id": "NPCHRXBk1feZ",
        "colab_type": "code",
        "colab": {
          "base_uri": "https://localhost:8080/",
          "height": 640
        },
        "outputId": "dbf1ec8e-bb5c-433a-8c0e-598f0f69f9c4"
      },
      "source": [
        "translation, attention = translate_sentence(src, SRC, TRG, model, device)\n",
        "\n",
        "print(f'predicted trg = {translation}')\n",
        "\n",
        "display_attention(src, translation, attention)"
      ],
      "execution_count": 30,
      "outputs": [
        {
          "output_type": "stream",
          "text": [
            "predicted trg = ['32', '32', '32', '32', '32', '32', '32', '32', '32', '32', '32', '32', '32', '32', '32', '32', '32', '32', '32', '32', '32', '<eos>']\n"
          ],
          "name": "stdout"
        },
        {
          "output_type": "display_data",
          "data": {
            "image/png": "[encoded data removed]",
            "text/plain": [
              "<Figure size 720x720 with 1 Axes>"
            ]
          },
          "metadata": {
            "tags": [],
            "needs_background": "light"
          }
        }
      ]
    },
    {
      "cell_type": "markdown",
      "metadata": {
        "id": "bhovTZg01fec",
        "colab_type": "text"
      },
      "source": [
        "We get a BLEU of around 29. If we compare it to the paper that the attention model is attempting to replicate, they achieve a BLEU score of 26.75. This is similar to our score, however they are using a completely different dataset and their model size is much larger - 1000 hidden dimensions which takes 4 days to train! - so we cannot really compare against that either.\n",
        "\n",
        "This number isn't really interpretable, we can't really say much about it. The most useful part of a BLEU score is that it can be used to compare different models on the same dataset, where the one with the **higher** BLEU score is \"better\"."
      ]
    },
    {
      "cell_type": "markdown",
      "metadata": {
        "id": "2p8a8uXc1fdu",
        "colab_type": "text"
      },
      "source": [
        "## BLEU\n",
        "\n",
        "Previously we have only cared about the loss/perplexity of the model. However there metrics that are specifically designed for measuring the quality of a translation - the most popular is *BLEU*. Without going into too much detail, BLEU looks at the overlap in the predicted and actual target sequences in terms of their n-grams. It will give us a number between 0 and 1 for each sequence, where 1 means there is perfect overlap, i.e. a perfect translation, although is usually shown between 0 and 100. BLEU was designed for multiple candidate translations per source sequence, however in this dataset we only have one candidate per source.\n",
        "\n",
        "We define a `calculate_bleu` function which calculates the BLEU score over a provided TorchText dataset. This function creates a corpus of the actual and predicted translation for each source sentence and then calculates the BLEU score."
      ]
    },
    {
      "cell_type": "code",
      "metadata": {
        "id": "T19qTPFIc8xG",
        "colab_type": "code",
        "colab": {
          "base_uri": "https://localhost:8080/",
          "height": 53
        },
        "outputId": "bb17289d-2e0f-41b5-ee3c-08020feca3f7"
      },
      "source": [
        "source_sents = []\n",
        "target_sents = []\n",
        "for datum in train_data:\n",
        "    src = vars(datum)['Sensor']\n",
        "    trg = vars(datum)['Activity']\n",
        "    source_sents.append(src)\n",
        "    target_sents.append(trg)\n",
        "for datum in valid_data:\n",
        "    src = vars(datum)['Sensor']\n",
        "    trg = vars(datum)['Activity']\n",
        "    source_sents.append(src)\n",
        "    target_sents.append(trg)\n",
        "for datum in test_data:\n",
        "    src = vars(datum)['Sensor']\n",
        "    trg = vars(datum)['Activity']\n",
        "    source_sents.append(src)\n",
        "    target_sents.append(trg)\n",
        "print(len(source_sents))\n",
        "print(len(target_sents))"
      ],
      "execution_count": 78,
      "outputs": [
        {
          "output_type": "stream",
          "text": [
            "23766\n",
            "23766\n"
          ],
          "name": "stdout"
        }
      ]
    },
    {
      "cell_type": "code",
      "metadata": {
        "id": "52FWp5151feg",
        "colab_type": "code",
        "colab": {
          "base_uri": "https://localhost:8080/",
          "height": 73
        },
        "outputId": "9143d176-089d-4f27-f548-03fbffa5767f"
      },
      "source": [
        "source_to_target = {}\n",
        "for i, source in enumerate(source_sents):\n",
        "  if tuple(source) in source_to_target:\n",
        "      source_to_target[tuple(source)].append(target_sents[i])\n",
        "  else:\n",
        "      source_to_target[tuple(source)] = [target_sents[i]]"
      ],
      "execution_count": 79,
      "outputs": [
        {
          "output_type": "stream",
          "text": [
            "[['32', '32', '32', '32', '32', '32', '32', '32', '32', '32', '32', '32', '32', '32', '32', '32', '32', '32', '32', '32', '32'], ['32', '32', '32', '32', '32', '32', '32', '32', '32', '32', '32', '32', '32', '32', '32', '32', '32', '32', '32', '32', '32'], ['32', '32', '32', '32', '32', '32', '32', '32', '32', '32', '32', '32', '32', '32', '32', '32', '32', '32', '32', '32', '32'], ['32', '32', '32', '32', '32', '32', '32', '32', '32', '32', '32', '32', '32', '32', '32', '32', '32', '32', '32', '32', '32'], ['32', '32', '32', '32', '32', '32', '32', '32', '32', '32', '32', '32', '32', '32', '32', '32', '32', '32', '32', '32', '32'], ['32', '32', '32', '32', '32', '32', '32', '32', '32', '32', '32', '32', '32', '32', '32', '32', '32', '32', '32', '32', '32'], ['32', '32', '32', '32', '32', '32', '32', '32', '32', '32', '32', '32', '32', '32', '32', '32', '32', '32', '32', '32', '32'], ['32', '32', '32', '32', '32', '32', '32', '32', '32', '32', '32', '32', '32', '32', '32', '32', '32', '32', '32', '32', '32'], ['32', '32', '32', '32', '32', '32', '32', '32', '32', '32', '32', '32', '32', '32', '32', '32', '32', '32', '32', '32', '32'], ['106', '106', '106', '106', '106', '106', '106', '106', '106', '106', '106', '106', '106', '106', '106', '106', '106', '106', '106', '106', '106'], ['32', '32', '32', '32', '32', '32', '32', '32', '32', '32', '32', '32', '32', '32', '32', '32', '32', '32', '32', '32', '32'], ['32', '32', '32', '32', '32', '32', '32', '32', '32', '32', '32', '32', '32', '32', '32', '32', '32', '32', '32', '32', '32'], ['32', '32', '32', '32', '32', '32', '32', '32', '32', '32', '32', '32', '32', '32', '32', '32', '32', '32', '32', '32', '32'], ['32', '32', '32', '32', '32', '32', '32', '32', '32', '32', '32', '32', '32', '32', '32', '32', '32', '32', '32', '32', '32'], ['106', '106', '106', '106', '106', '106', '106', '106', '106', '106', '106', '106', '106', '106', '106', '106', '106', '106', '106', '106', '106'], ['32', '32', '32', '32', '32', '32', '32', '32', '32', '32', '32', '32', '32', '32', '32', '32', '32', '32', '32', '32', '32'], ['32', '32', '32', '32', '32', '32', '32', '32', '32', '32', '32', '32', '32', '32', '32', '32', '32', '32', '32', '32', '32'], ['32', '32', '32', '32', '32', '32', '32', '32', '32', '32', '32', '32', '32', '32', '32', '32', '32', '32', '32', '32', '32'], ['32', '32', '32', '32', '32', '32', '32', '32', '32', '32', '32', '32', '32', '32', '32', '32', '32', '32', '32', '32', '32'], ['32', '32', '32', '32', '32', '32', '32', '32', '32', '32', '32', '32', '32', '32', '32', '32', '32', '32', '32', '32', '32'], ['106', '106', '106', '106', '106', '106', '106', '106', '106', '106', '106', '106', '106', '106', '106', '106', '106', '106', '106', '106', '106'], ['106', '106', '106', '106', '106', '106', '106', '106', '106', '106', '106', '106', '106', '106', '106', '106', '106', '106', '106', '106', '106'], ['32', '32', '32', '32', '32', '32', '32', '32', '32', '32', '32', '32', '32', '32', '32', '32', '32', '32', '32', '32', '32'], ['32', '32', '32', '32', '32', '32', '32', '32', '32', '32', '32', '32', '32', '32', '32', '32', '32', '32', '32', '32', '32'], ['32', '32', '32', '32', '32', '32', '32', '32', '32', '32', '32', '32', '32', '32', '32', '32', '32', '32', '32', '32', '32'], ['106', '106', '106', '106', '106', '106', '106', '106', '106', '106', '106', '106', '106', '106', '106', '106', '106', '106', '106', '106', '106'], ['106', '106', '106', '106', '106', '106', '106', '106', '106', '106', '106', '106', '106', '106', '106', '106', '106', '106', '106', '106', '106'], ['32', '32', '32', '32', '32', '32', '32', '32', '32', '32', '32', '32', '32', '32', '32', '32', '32', '32', '32', '32', '32'], ['32', '32', '32', '32', '32', '32', '32', '32', '32', '32', '32', '32', '32', '32', '32', '32', '32', '32', '32', '32', '32'], ['32', '32', '32', '32', '32', '32', '32', '32', '32', '32', '32', '32', '32', '32', '32', '32', '32', '32', '32', '32', '32'], ['32', '32', '32', '32', '32', '32', '32', '32', '32', '32', '32', '32', '32', '32', '32', '32', '32', '32', '32', '32', '32'], ['32', '32', '32', '32', '32', '32', '32', '32', '32', '32', '32', '32', '32', '32', '32', '32', '32', '32', '32', '32', '32'], ['32', '32', '32', '32', '32', '32', '32', '32', '32', '32', '32', '32', '32', '32', '32', '32', '32', '32', '32', '32', '32'], ['106', '106', '106', '106', '106', '106', '106', '106', '106', '106', '106', '106', '106', '106', '106', '106', '106', '106', '106', '106', '106'], ['32', '32', '32', '32', '32', '32', '32', '32', '32', '32', '32', '32', '32', '32', '32', '32', '32', '32', '32', '32', '32'], ['32', '32', '32', '32', '32', '32', '32', '32', '32', '32', '32', '32', '32', '32', '32', '32', '32', '32', '32', '32', '32'], ['32', '32', '32', '32', '32', '32', '32', '32', '32', '32', '32', '32', '32', '32', '32', '32', '32', '32', '32', '32', '32'], ['106', '106', '106', '106', '106', '106', '106', '106', '106', '106', '106', '106', '106', '106', '106', '106', '106', '106', '106', '106', '106'], ['32', '32', '32', '32', '32', '32', '32', '32', '32', '32', '32', '32', '32', '32', '32', '32', '32', '32', '32', '32', '32'], ['32', '32', '32', '32', '32', '32', '32', '32', '32', '32', '32', '32', '32', '32', '32', '32', '32', '32', '32', '32', '32'], ['32', '32', '32', '32', '32', '32', '32', '32', '32', '32', '32', '32', '32', '32', '32', '32', '32', '32', '32', '32', '32'], ['106', '106', '106', '106', '106', '106', '106', '106', '106', '106', '106', '106', '106', '106', '106', '106', '106', '106', '106', '106', '106'], ['32', '32', '32', '32', '32', '32', '32', '32', '32', '32', '32', '32', '32', '32', '32', '32', '32', '32', '32', '32', '32'], ['32', '32', '32', '32', '32', '32', '32', '32', '32', '32', '32', '32', '32', '32', '32', '32', '32', '32', '32', '32', '32'], ['32', '32', '32', '32', '32', '32', '32', '32', '32', '32', '32', '32', '32', '32', '32', '32', '32', '32', '32', '32', '32'], ['106', '106', '106', '106', '106', '106', '106', '106', '106', '106', '106', '106', '106', '106', '106', '106', '106', '106', '106', '106', '106']]\n",
            "('1', '1', '1', '1', '1', '1', '1', '1', '1', '1', '9', '1', '1', '1', '1', '1', '1', '1', '1', '1', '1')\n"
          ],
          "name": "stdout"
        }
      ]
    },
    {
      "cell_type": "code",
      "metadata": {
        "id": "1dHpvkzE1fdv",
        "colab_type": "code",
        "colab": {}
      },
      "source": [
        "def calculate_bleu(data, src_field, trg_field, model, device, max_len = 50):   \n",
        "    trgs = []\n",
        "    pred_trgs = []\n",
        "    \n",
        "    for datum in data:\n",
        "        \n",
        "        src = vars(datum)['Sensor']\n",
        "        trg = vars(datum)['Activity']\n",
        "        pred_trg, _ = translate_sentence(src, src_field, trg_field, model, device, max_len)\n",
        "        #cut off <eos> token\n",
        "        pred_trg = pred_trg[:-1]\n",
        "        # print(\"A:\", pred_trg)\n",
        "        # print(\"B:\", trg)\n",
        "        pred_trgs.append(pred_trg)\n",
        "        trg = source_to_target[tuple(src)]\n",
        "        trgs.append(trg)\n",
        "        # print(pred_trgs,trgs)\n",
        "        # break\n",
        "    return bleu_score(pred_trgs, trgs)"
      ],
      "execution_count": 80,
      "outputs": []
    },
    {
      "cell_type": "code",
      "metadata": {
        "id": "hemn6AVI1fec",
        "colab_type": "code",
        "colab": {
          "base_uri": "https://localhost:8080/",
          "height": 35
        },
        "outputId": "dedcc982-19ab-4b49-e1ce-eaf1d1aa0ed4"
      },
      "source": [
        "bleu_score_a = calculate_bleu_accuracy(test_data, SRC, TRG, model, device)\n",
        "\n",
        "print(f'BLEU score = {bleu_score_a*100:.2f}')\n",
        "\n",
        "accuracy_a = calculate_accuracy()"
      ],
      "execution_count": 81,
      "outputs": [
        {
          "output_type": "stream",
          "text": [
            "BLEU score = 91.60\n"
          ],
          "name": "stdout"
        }
      ]
    },
    {
      "cell_type": "code",
      "metadata": {
        "id": "BWjDS3K3sAR8",
        "colab_type": "code",
        "colab": {}
      },
      "source": [
        "source_sents_valid = []\n",
        "target_sents_valid = []\n",
        "source_sents_test = []\n",
        "target_sents_test = []\n",
        "source_sents_train = []\n",
        "target_sents_train = []\n",
        "for datum in valid_data:\n",
        "    src = vars(datum)['Sensor']\n",
        "    trg = vars(datum)['Activity']\n",
        "    source_sents_valid.append(src)\n",
        "    target_sents_valid.append(trg)\n",
        "for datum in test_data:\n",
        "    src = vars(datum)['Sensor']\n",
        "    trg = vars(datum)['Activity']\n",
        "    source_sents_test.append(src)\n",
        "    target_sents_test.append(trg)\n",
        "for datum in train_data:\n",
        "    src = vars(datum)['Sensor']\n",
        "    trg = vars(datum)['Activity']\n",
        "    source_sents_train.append(src)\n",
        "    target_sents_train.append(trg)"
      ],
      "execution_count": 89,
      "outputs": []
    },
    {
      "cell_type": "code",
      "metadata": {
        "id": "XkG0w8IyuC7R",
        "colab_type": "code",
        "colab": {}
      },
      "source": [
        "def accuracy(source_sents_inp, target_sents_inp, src_field, trg_field, model, device, max_len = 50):   \n",
        "    total = 0.0\n",
        "    for i, src in enumerate(source_sents_inp):\n",
        "        pred_trg, _ = translate_sentence(src, src_field, trg_field, model, device, max_len)\n",
        "        #cut off <eos> token\n",
        "        pred_trg = pred_trg[:-1]\n",
        "        trg = target_sents_inp[i]\n",
        "        total += 1.0 if tuple(pred_trg) == tuple(trg) else 0.0\n",
        "    return total /len(source_sents_inp)"
      ],
      "execution_count": 90,
      "outputs": []
    },
    {
      "cell_type": "code",
      "metadata": {
        "id": "wdLiEoUFwNgp",
        "colab_type": "code",
        "colab": {
          "base_uri": "https://localhost:8080/",
          "height": 35
        },
        "outputId": "f0b189ac-f781-4974-993b-01e913f58d17"
      },
      "source": [
        "accuracy(source_sents_train, target_sents_train, SRC, TRG, model, device)"
      ],
      "execution_count": 91,
      "outputs": [
        {
          "output_type": "execute_result",
          "data": {
            "text/plain": [
              "0.7372600035887313"
            ]
          },
          "metadata": {
            "tags": []
          },
          "execution_count": 91
        }
      ]
    },
    {
      "cell_type": "code",
      "metadata": {
        "id": "SPy4-5Goxakw",
        "colab_type": "code",
        "colab": {}
      },
      "source": [
        ""
      ],
      "execution_count": null,
      "outputs": []
    }
  ]
}
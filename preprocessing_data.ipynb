{
 "cells": [
  {
   "cell_type": "code",
   "execution_count": null,
   "metadata": {},
   "outputs": [],
   "source": [
    "from google.colab import drive\n",
    "drive.mount('/content/drive')"
   ]
  },
  {
   "cell_type": "code",
   "execution_count": null,
   "metadata": {},
   "outputs": [],
   "source": [
    "import pandas as pd\n",
    "import numpy as np"
   ]
  },
  {
   "cell_type": "code",
   "execution_count": null,
   "metadata": {},
   "outputs": [],
   "source": [
    "%cd /content/drive/My\\ Drive/Colab\\ stuff/sensor_anomaly"
   ]
  },
  {
   "cell_type": "code",
   "execution_count": null,
   "metadata": {},
   "outputs": [],
   "source": [
    "def process_column(column):\n",
    "    processed_column = column.copy()\n",
    "    for index, state in enumerate(column[1:], 1):\n",
    "        if state != state:\n",
    "            processed_column[index] = processed_column[index-1]\n",
    "    # print(processed_column)\n",
    "    return processed_column\n",
    "def process_activity_column(column):\n",
    "    change_str = \"\"\n",
    "    changing = False\n",
    "    processed_column = column.copy()\n",
    "    for index, state in enumerate(column):\n",
    "        if str(state).split()[-1] == 'begin':\n",
    "            changing = True\n",
    "            if not change_str == '':\n",
    "                change_str += '-'+ state.strip().split()[0]\n",
    "            else:\n",
    "                change_str = state.strip().split()[0]\n",
    "            print(index, change_str)\n",
    "        elif str(state).split()[-1] == 'end':\n",
    "            end_act = state.strip().split()[0]\n",
    "            acts = change_str.split('-')\n",
    "            acts.remove(end_act)\n",
    "            if not acts:\n",
    "                print(\"no acts\")\n",
    "                changing = False\n",
    "            change_str = '-'.join(acts)\n",
    "            print(index, acts, change_str)\n",
    "        if changing:\n",
    "            processed_column[index] = change_str\n",
    "    return processed_column"
   ]
  },
  {
   "cell_type": "code",
   "execution_count": null,
   "metadata": {},
   "outputs": [],
   "source": [
    "# time_series_df.columns = ['ds', 'sensorID', 'state', 'activity']\n",
    "# time_series_df['ds'] = time_series_df['ds'].dt.tz_localize(None)\n",
    "# time_series_df['year'] = time_series_df.apply(lambda row: row.ds.year, axis=1)\n",
    "# time_series_df['month'] = time_series_df.apply(lambda row: row.ds.month, axis=1)\n",
    "# time_series_df['day'] = time_series_df.apply(lambda row: row.ds.day, axis=1)\n",
    "# time_series_df['hours'] = time_series_df.apply(lambda row: row.ds.hour, axis=1)\n",
    "# time_series_df['minutes'] = time_series_df.apply(lambda row: row.ds.minute, axis=1)"
   ]
  },
  {
   "cell_type": "code",
   "execution_count": null,
   "metadata": {},
   "outputs": [],
   "source": [
    "data_milan = pd.read_csv(\"dataset/milan/data\", sep = \"\\t\", parse_dates=[0], infer_datetime_format=True, skip_blank_lines = True, names = ['Timestamp (UTC)', 'sensorID', 'state', 'activity'])\n",
    "time_series_df = data_milan.sort_values(by=\"Timestamp (UTC)\")\n",
    "time_series_df = time_series_df.reset_index(drop=True)\n",
    "df_sensors = pd.DataFrame(columns = time_series_df.sensorID.unique(),index = range(len(time_series_df)))\n",
    "cols = list(time_series_df.sensorID.unique())\n",
    "for index, row in time_series_df.iterrows():\n",
    "    df_sensors.iat[index,cols.index(row.sensorID)] = row.state\n",
    "for col in cols:\n",
    "    df_sensors[col] = process_column(list(df_sensors[col]))\n",
    "    df_sensors[col] = list(reversed(process_column(list(reversed(list(df_sensors[col]))))))"
   ]
  },
  {
   "cell_type": "code",
   "execution_count": null,
   "metadata": {},
   "outputs": [],
   "source": [
    "df_sensors = df_sensors.replace({'ON':1, 'OFF':0, 'OPEN': 1, 'CLOSE': 0})\n",
    "df_sensors['Activity'] = time_series_df['activity']\n",
    "df_sensors['Activity'] = process_activity_column(list(df_sensors['Activity']))\n",
    "df_sensors.Activity = df_sensors.Activity.fillna('None')\n",
    "df_sensors.to_csv('dataset/milan/milan_processed.csv')\n",
    "#test"
   ]
  },
  {
   "cell_type": "code",
   "execution_count": null,
   "metadata": {},
   "outputs": [],
   "source": []
  }
 ],
 "metadata": {
  "kernelspec": {
   "display_name": "Python 3",
   "language": "python",
   "name": "python3"
  },
  "language_info": {
   "codemirror_mode": {
    "name": "ipython",
    "version": 3
   },
   "file_extension": ".py",
   "mimetype": "text/x-python",
   "name": "python",
   "nbconvert_exporter": "python",
   "pygments_lexer": "ipython3",
   "version": "3.7.6"
  }
 },
 "nbformat": 4,
 "nbformat_minor": 1
}

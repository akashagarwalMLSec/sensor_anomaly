{
 "cells": [
  {
   "cell_type": "code",
   "execution_count": null,
   "metadata": {},
   "outputs": [],
   "source": [
    "import pandas as pd\n",
    "import numpy as np"
   ]
  },
  {
   "cell_type": "code",
   "execution_count": null,
   "metadata": {},
   "outputs": [],
   "source": [
    "def process_activity_column(column):\n",
    "    change_str = \"\"\n",
    "    changing = False\n",
    "    processed_column = column.copy()\n",
    "    max_stack = [0]\n",
    "    max_stack_index = []\n",
    "    for index, state in enumerate(column):\n",
    "        if str(state).split()[-1] == 'begin':\n",
    "            changing = True\n",
    "#             print(\"Begin Found\")\n",
    "            if not change_str == '':# and (state.strip().split()[0] not in change_str.split('-')):\n",
    "                change_str += '-'+ state.strip().split()[0]\n",
    "            else:\n",
    "                change_str = state.strip().split()[0]\n",
    "#             print(index, change_str)\n",
    "        if changing:\n",
    "            processed_column[index] = change_str.split('-')\n",
    "            if len(processed_column[index]) > max_stack[0]:\n",
    "                max_stack = [len(processed_column[index])]\n",
    "                max_stack_index = [index]\n",
    "            elif len(processed_column[index]) == max_stack[0]:\n",
    "                max_stack.append(len(processed_column[index]))\n",
    "                max_stack_index.append(index)\n",
    "        if str(state).split()[-1] == 'end':\n",
    "            processed_column[index] = change_str.split('-')\n",
    "#             print(\"End Found\")\n",
    "            end_act = state.strip().split()[0]\n",
    "#             print(\"End act: \", end_act)\n",
    "            acts = change_str.split('-')\n",
    "            acts.remove(end_act)\n",
    "            if not acts:\n",
    "#                 print(\"no acts\")\n",
    "                changing = False\n",
    "            change_str = '-'.join(acts)\n",
    "#             print(index, acts, change_str)\n",
    "    return processed_column, max_stack, max_stack_index"
   ]
  },
  {
   "cell_type": "code",
   "execution_count": null,
   "metadata": {},
   "outputs": [],
   "source": [
    "data_milan = pd.read_csv(\"dataset/milan/data\", sep = \"\\t\", index_col=0, parse_dates=[0], infer_datetime_format=True, skip_blank_lines = True, names = ['Timestamp (UTC)', 'sensorID', 'state', 'activity'])\n",
    "data_milan = data_milan.sort_index()\n",
    "processed_column, max_stack, max_stack_index = process_activity_column(list(data_milan['activity']))\n",
    "data_milan['mod_col'] = processed_column\n",
    "data_milan['mod_col'] = data_milan['mod_col'].fillna('None')"
   ]
  },
  {
   "cell_type": "code",
   "execution_count": null,
   "metadata": {},
   "outputs": [],
   "source": [
    "print(max_stack, max_stack_index)\n",
    "print(data_milan.iloc[2661])\n",
    "print(data_milan.index[0] + pd.Timedelta(minutes=15))"
   ]
  },
  {
   "cell_type": "code",
   "execution_count": null,
   "metadata": {},
   "outputs": [],
   "source": [
    "def process_subset(df, uni_list_beg, cols):\n",
    "    act_col = df['mod_col'].tolist()\n",
    "    uni_list = []\n",
    "    for i in act_col:\n",
    "        uni_list += ['Other'] if i == 'None' else i\n",
    "    uni_list = set(uni_list)\n",
    "    act_col_beg_end = df['activity'].tolist()\n",
    "    for index, state in enumerate(act_col_beg_end):\n",
    "        if str(state).split()[-1] == 'begin':\n",
    "            uni_list_beg.append(state.strip().split()[0])\n",
    "        elif str(state).split()[-1] == 'end' and (str(state).split()[0] in uni_list_beg):\n",
    "            uni_list_beg.remove(str(state).split()[0])\n",
    "    uni_list = list(uni_list)\n",
    "    uni_list.sort()\n",
    "    sensorID = df['sensorID'].tolist()\n",
    "    sensor_list = [0] * (len(cols)-1)\n",
    "    for index, sensor in enumerate(cols[:-1]):\n",
    "        sensor_list[index] = int(sensor in sensorID)\n",
    "    return uni_list, uni_list_beg, sensor_list"
   ]
  },
  {
   "cell_type": "code",
   "execution_count": null,
   "metadata": {},
   "outputs": [],
   "source": [
    "cols = data_milan.sensorID.unique()\n",
    "#print(list(cols))\n",
    "cols = list(cols)\n",
    "cols.append('Activities')\n",
    "df_sensors = pd.DataFrame(columns = cols)\n",
    "df_sensors.head(5)\n",
    "\n",
    "uni_list_beg = []\n",
    "startTime = data_milan.index[0]\n",
    "stepTime = pd.Timedelta(seconds=180)\n",
    "endTime = data_milan.index[-1]\n",
    "count = 0\n",
    "countc = 0\n",
    "while startTime  <= endTime:\n",
    "    df_15mins = data_milan.loc[startTime: startTime + stepTime]\n",
    "    #print(df_15mins)\n",
    "    startTime = startTime + stepTime\n",
    "#     print(startTime)\n",
    "    uni_list, uni_list_beg, sensor_list =  process_subset(df_15mins, uni_list_beg, cols)\n",
    "#     print(\"count: \", count)\n",
    "#     print(\"List of open activities:\", uni_list_beg)\n",
    "#     print(\"List of activities:\", uni_list)\n",
    "    #print(list(cols))\n",
    "    count+=1\n",
    "    #print(\"Sensor Feature:\", sensor_list)\n",
    "    if (all(v == 0 for v in sensor_list) and uni_list_beg) or uni_list:\n",
    "#         print(\"countc: \", countc)\n",
    "        countc+=1\n",
    "        if all(v == 0 for v in sensor_list):\n",
    "            uni_list = list(uni_list_beg)\n",
    "        list2append = uni_list\n",
    "        sensor_list.append(list2append)\n",
    "        sensor_series = pd.Series(sensor_list, index= df_sensors.columns)      \n",
    "#         print(list(sensor_series))\n",
    "        df_sensors = df_sensors.append(sensor_series, ignore_index=True)\n",
    "    elif (all(v == 0 for v in sensor_list) and not uni_list_beg):\n",
    "#         print(\"countc: \", countc)\n",
    "        countc+=1\n",
    "        sensor_list.append(['Other'])\n",
    "        sensor_series = pd.Series(sensor_list, index= df_sensors.columns)      \n",
    "#         print(list(sensor_series))\n",
    "        df_sensors = df_sensors.append(sensor_series, ignore_index=True)"
   ]
  },
  {
   "cell_type": "code",
   "execution_count": null,
   "metadata": {},
   "outputs": [],
   "source": [
    "# pd.set_option('display.max_rows', df_sensors.shape[0]+1)\n",
    "# df_sensors"
   ]
  },
  {
   "cell_type": "code",
   "execution_count": null,
   "metadata": {},
   "outputs": [],
   "source": [
    "df_sensors.to_csv('dataset/milan/data_processed.csv', index = False)\n",
    "df_unique_rows = df_sensors.iloc[:,:-1]\n",
    "df_unique_rows = df_unique_rows.drop_duplicates()\n",
    "df_unique_rows.reset_index(drop=True, inplace=True)\n",
    "# df_unique_rows"
   ]
  },
  {
   "cell_type": "code",
   "execution_count": null,
   "metadata": {},
   "outputs": [],
   "source": [
    "dictSeries = df_unique_rows.to_dict('index')\n",
    "# dictSeries"
   ]
  },
  {
   "cell_type": "code",
   "execution_count": null,
   "metadata": {},
   "outputs": [],
   "source": [
    "key_list = list(dictSeries.keys())\n",
    "val_list = list(dictSeries.values())\n",
    "col_label = df_sensors.apply(lambda row: key_list[val_list.index(pd.Series(row[:-1]).to_dict())], axis = 1)\n",
    "col_label = col_label.rename(\"Sensor_label\")\n",
    "df_sensors = df_sensors.join(col_label)\n",
    "# df_sensors"
   ]
  },
  {
   "cell_type": "code",
   "execution_count": null,
   "metadata": {},
   "outputs": [],
   "source": [
    "unique_data = [list(x) for x in set(tuple(x) for x in list(df_sensors['Activities']))]\n",
    "dictSeries = {}\n",
    "for index,ele in enumerate(unique_data):\n",
    "    dictSeries[index] = ele"
   ]
  },
  {
   "cell_type": "code",
   "execution_count": null,
   "metadata": {},
   "outputs": [],
   "source": [
    "key_list = list(dictSeries.keys())\n",
    "val_list = list(dictSeries.values())\n",
    "col_label = df_sensors['Activities'].map(lambda row: key_list[val_list.index(row)])\n",
    "col_label = col_label.rename(\"activity_label\")\n",
    "df_sensors = df_sensors.join(col_label)"
   ]
  },
  {
   "cell_type": "code",
   "execution_count": null,
   "metadata": {},
   "outputs": [],
   "source": [
    "# df_sensors"
   ]
  },
  {
   "cell_type": "code",
   "execution_count": null,
   "metadata": {},
   "outputs": [],
   "source": [
    "print(len(df_sensors.activity_label.unique()))\n",
    "df_sensors.reset_index(drop=True, inplace=True)"
   ]
  },
  {
   "cell_type": "code",
   "execution_count": null,
   "metadata": {},
   "outputs": [],
   "source": [
    "len_sentence = 4\n",
    "startIndex = df_sensors.index[0]\n",
    "stepIndex = 5\n",
    "endIndex = df_sensors.index[-1]\n",
    "with open(\"Sensor-Activity.txt\", \"w\") as file:\n",
    "    while startIndex + len_sentence <= endIndex:\n",
    "        s = pd.Series(df_sensors.Sensor_label.loc[startIndex: startIndex + len_sentence])\n",
    "        s = s.apply(str)\n",
    "        sensor_sentence = s.str.cat(sep = \" \")\n",
    "#         print(sensor_sentence)\n",
    "        s = pd.Series(df_sensors.activity_label.loc[startIndex: startIndex + len_sentence])\n",
    "        s = s.apply(str)\n",
    "        activity_sentence = s.str.cat(sep = \" \")\n",
    "#         print(activity_sentence)\n",
    "\n",
    "        file.write(sensor_sentence + \"\\t\" + activity_sentence + \"\\n\")\n",
    "        startIndex = startIndex + stepIndex"
   ]
  },
  {
   "cell_type": "code",
   "execution_count": null,
   "metadata": {},
   "outputs": [],
   "source": []
  }
 ],
 "metadata": {
  "language_info": {
   "name": "python",
   "pygments_lexer": "ipython3"
  }
 },
 "nbformat": 4,
 "nbformat_minor": 1
}

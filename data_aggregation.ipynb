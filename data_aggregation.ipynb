{
 "cells": [
  {
   "cell_type": "code",
   "execution_count": 1,
   "metadata": {},
   "outputs": [],
   "source": [
    "import pandas as pd\n",
    "import numpy as np"
   ]
  },
  {
   "cell_type": "code",
   "execution_count": 2,
   "metadata": {},
   "outputs": [],
   "source": [
    "def process_activity_column(column):\n",
    "    change_str = \"\"\n",
    "    changing = False\n",
    "    processed_column = column.copy()\n",
    "    max_stack = [0]\n",
    "    max_stack_index = []\n",
    "    for index, state in enumerate(column):\n",
    "        if str(state).split()[-1] == 'begin':\n",
    "            changing = True\n",
    "#             print(\"Begin Found\")\n",
    "            if not change_str == '':# and (state.strip().split()[0] not in change_str.split('-')):\n",
    "                change_str += '-'+ state.strip().split()[0]\n",
    "            else:\n",
    "                change_str = state.strip().split()[0]\n",
    "#             print(index, change_str)\n",
    "        if changing:\n",
    "            processed_column[index] = change_str.split('-')\n",
    "            if len(processed_column[index]) > max_stack[0]:\n",
    "                max_stack = [len(processed_column[index])]\n",
    "                max_stack_index = [index]\n",
    "            elif len(processed_column[index]) == max_stack[0]:\n",
    "                max_stack.append(len(processed_column[index]))\n",
    "                max_stack_index.append(index)\n",
    "        if str(state).split()[-1] == 'end':\n",
    "            processed_column[index] = change_str.split('-')\n",
    "#             print(\"End Found\")\n",
    "            end_act = state.strip().split()[0]\n",
    "#             print(\"End act: \", end_act)\n",
    "            acts = change_str.split('-')\n",
    "            acts.remove(end_act)\n",
    "            if not acts:\n",
    "#                 print(\"no acts\")\n",
    "                changing = False\n",
    "            change_str = '-'.join(acts)\n",
    "#             print(index, acts, change_str)\n",
    "    return processed_column, max_stack, max_stack_index"
   ]
  },
  {
   "cell_type": "code",
   "execution_count": 3,
   "metadata": {},
   "outputs": [],
   "source": [
    "data_milan = pd.read_csv(\"dataset/milan/data\", sep = \"\\t\", index_col=0, parse_dates=[0], infer_datetime_format=True, skip_blank_lines = True, names = ['Timestamp (UTC)', 'sensorID', 'state', 'activity'])\n",
    "data_milan = data_milan.sort_index()\n",
    "processed_column, max_stack, max_stack_index = process_activity_column(list(data_milan['activity']))\n",
    "data_milan['mod_col'] = processed_column\n",
    "data_milan['mod_col'] = data_milan['mod_col'].fillna('None')"
   ]
  },
  {
   "cell_type": "code",
   "execution_count": 4,
   "metadata": {},
   "outputs": [
    {
     "name": "stdout",
     "output_type": "stream",
     "text": [
      "[3, 3, 3, 3, 3, 3, 3, 3, 3, 3, 3, 3, 3, 3, 3, 3, 3, 3, 3, 3, 3, 3, 3, 3, 3, 3, 3, 3, 3, 3, 3, 3, 3, 3, 3, 3, 3, 3, 3, 3, 3, 3, 3, 3, 3, 3, 3, 3, 3, 3, 3, 3, 3, 3, 3, 3, 3, 3, 3, 3, 3, 3, 3, 3, 3, 3, 3, 3, 3, 3, 3, 3, 3, 3, 3, 3, 3, 3, 3, 3, 3, 3, 3, 3, 3, 3, 3, 3, 3, 3, 3, 3, 3, 3, 3, 3, 3, 3, 3, 3, 3, 3, 3, 3, 3, 3, 3, 3, 3, 3, 3, 3, 3, 3, 3, 3, 3, 3, 3, 3, 3, 3, 3, 3, 3, 3, 3, 3, 3, 3, 3, 3, 3, 3, 3, 3, 3, 3, 3, 3, 3, 3, 3, 3, 3, 3, 3, 3, 3, 3, 3, 3, 3, 3, 3, 3, 3, 3, 3, 3, 3, 3, 3, 3, 3, 3, 3, 3, 3, 3, 3, 3, 3, 3, 3, 3, 3, 3, 3, 3, 3, 3, 3, 3, 3, 3, 3, 3, 3, 3, 3, 3, 3, 3, 3, 3, 3, 3, 3, 3, 3, 3, 3, 3, 3, 3, 3, 3, 3, 3, 3, 3, 3, 3, 3, 3, 3, 3, 3, 3, 3, 3, 3, 3, 3, 3, 3, 3, 3, 3, 3, 3, 3, 3, 3, 3, 3, 3, 3, 3, 3, 3, 3] [183162, 183163, 183164, 183165, 183166, 183167, 183168, 183169, 183170, 183171, 183172, 183173, 183174, 183175, 246759, 246760, 246761, 246762, 246763, 246764, 246765, 246766, 246767, 251284, 251285, 251286, 251287, 251288, 251289, 251290, 251291, 251292, 251293, 251294, 251295, 251296, 251297, 251298, 251299, 251300, 258486, 258487, 258488, 258489, 258490, 258491, 274425, 274426, 274427, 274428, 274429, 274430, 274431, 274432, 274433, 274434, 274435, 274436, 285990, 285991, 285992, 285993, 285994, 285995, 285996, 285997, 285998, 285999, 286000, 286001, 286002, 286003, 286004, 286005, 286006, 286007, 286008, 286009, 286010, 286011, 286012, 286013, 286014, 286015, 286016, 286017, 286018, 286019, 286020, 286021, 286022, 286023, 286024, 286025, 286026, 286027, 286028, 286029, 286030, 286031, 286032, 286033, 286034, 286035, 404624, 404625, 404626, 404627, 404628, 404629, 404630, 404631, 404632, 404633, 404634, 404635, 404636, 404637, 404638, 404639, 404640, 404641, 404642, 404643, 404644, 404645, 404646, 404647, 404648, 404649, 404650, 404651, 404652, 404653, 404654, 404655, 404656, 404657, 404658, 404659, 404660, 404661, 404662, 404663, 404664, 404665, 404666, 404667, 404668, 404669, 404670, 404671, 404672, 404673, 404674, 404675, 404676, 404677, 404678, 404679, 404680, 404681, 404682, 404683, 404684, 404685, 404686, 404687, 404688, 404689, 404690, 404691, 404692, 404693, 404694, 404695, 404696, 404697, 404698, 404699, 404700, 404701, 404702, 404703, 404704, 404705, 404706, 404707, 404708, 404709, 404710, 404711, 404712, 404713, 404714, 404715, 404716, 404717, 404718, 404719, 404720, 404721, 404722, 404723, 404724, 404725, 404726, 404727, 404728, 404729, 404730, 404731, 404732, 404733, 404734, 404735, 404736, 404737, 404738, 404739, 404740, 404741, 404742, 404743, 404744, 404745, 404746, 404747, 404748, 404749, 404750, 404751, 404752, 404753, 404754, 411238, 411239, 411240, 411241, 411242, 411243, 411244, 411245]\n",
      "sensorID                              M001\n",
      "state                                   ON\n",
      "activity                  Leave_Home begin\n",
      "mod_col     [Kitchen_Activity, Leave_Home]\n",
      "Name: 2009-10-16 14:49:54.000046, dtype: object\n",
      "2009-10-16 00:16:04.000059\n"
     ]
    }
   ],
   "source": [
    "print(max_stack, max_stack_index)\n",
    "print(data_milan.iloc[2661])\n",
    "print(data_milan.index[0] + pd.Timedelta(minutes=15))"
   ]
  },
  {
   "cell_type": "code",
   "execution_count": 5,
   "metadata": {},
   "outputs": [],
   "source": [
    "def process_subset(df, uni_list_beg, cols):\n",
    "    act_col = df['mod_col'].tolist()\n",
    "    uni_list = []\n",
    "    for i in act_col:\n",
    "        uni_list += ['Other'] if i == 'None' else i\n",
    "    uni_list = set(uni_list)\n",
    "    act_col_beg_end = df['activity'].tolist()\n",
    "    for index, state in enumerate(act_col_beg_end):\n",
    "        if str(state).split()[-1] == 'begin':\n",
    "            uni_list_beg.append(state.strip().split()[0])\n",
    "        elif str(state).split()[-1] == 'end' and (str(state).split()[0] in uni_list_beg):\n",
    "            uni_list_beg.remove(str(state).split()[0])\n",
    "    uni_list = list(uni_list)\n",
    "    uni_list.sort()\n",
    "    sensorID = df['sensorID'].tolist()\n",
    "    sensor_list = [0] * (len(cols)-1)\n",
    "    for index, sensor in enumerate(cols[:-1]):\n",
    "        sensor_list[index] = int(sensor in sensorID)\n",
    "    return uni_list, uni_list_beg, sensor_list"
   ]
  },
  {
   "cell_type": "code",
   "execution_count": null,
   "metadata": {},
   "outputs": [],
   "source": [
    "cols = data_milan.sensorID.unique()\n",
    "#print(list(cols))\n",
    "cols = list(cols)\n",
    "cols.append('Activities')\n",
    "df_sensors = pd.DataFrame(columns = cols)\n",
    "df_sensors.head(5)\n",
    "\n",
    "uni_list_beg = []\n",
    "startTime = data_milan.index[0]\n",
    "stepTime = pd.Timedelta(seconds=180)\n",
    "endTime = data_milan.index[-1]\n",
    "count = 0\n",
    "countc = 0\n",
    "while startTime  <= endTime:\n",
    "    df_15mins = data_milan.loc[startTime: startTime + stepTime]\n",
    "    #print(df_15mins)\n",
    "    startTime = startTime + stepTime\n",
    "#     print(startTime)\n",
    "    uni_list, uni_list_beg, sensor_list =  process_subset(df_15mins, uni_list_beg, cols)\n",
    "#     print(\"count: \", count)\n",
    "#     print(\"List of open activities:\", uni_list_beg)\n",
    "#     print(\"List of activities:\", uni_list)\n",
    "    #print(list(cols))\n",
    "    count+=1\n",
    "    #print(\"Sensor Feature:\", sensor_list)\n",
    "    if (all(v == 0 for v in sensor_list) and uni_list_beg) or uni_list:\n",
    "#         print(\"countc: \", countc)\n",
    "        countc+=1\n",
    "        if all(v == 0 for v in sensor_list):\n",
    "            uni_list = list(uni_list_beg)\n",
    "        list2append = uni_list\n",
    "        sensor_list.append(list2append)\n",
    "        sensor_series = pd.Series(sensor_list, index= df_sensors.columns)      \n",
    "#         print(list(sensor_series))\n",
    "        df_sensors = df_sensors.append(sensor_series, ignore_index=True)\n",
    "    elif (all(v == 0 for v in sensor_list) and not uni_list_beg):\n",
    "#         print(\"countc: \", countc)\n",
    "        countc+=1\n",
    "        sensor_list.append(['Other'])\n",
    "        sensor_series = pd.Series(sensor_list, index= df_sensors.columns)      \n",
    "#         print(list(sensor_series))\n",
    "        df_sensors = df_sensors.append(sensor_series, ignore_index=True)"
   ]
  },
  {
   "cell_type": "code",
   "execution_count": null,
   "metadata": {},
   "outputs": [],
   "source": [
    "# pd.set_option('display.max_rows', df_sensors.shape[0]+1)\n",
    "# df_sensors"
   ]
  },
  {
   "cell_type": "code",
   "execution_count": null,
   "metadata": {},
   "outputs": [],
   "source": [
    "df_sensors.to_csv('dataset/milan/data_processed.csv', index = False)\n",
    "df_unique_rows = df_sensors.iloc[:,:-1]\n",
    "df_unique_rows = df_unique_rows.drop_duplicates()\n",
    "df_unique_rows.reset_index(drop=True, inplace=True)\n",
    "# df_unique_rows"
   ]
  },
  {
   "cell_type": "code",
   "execution_count": null,
   "metadata": {},
   "outputs": [],
   "source": [
    "dictSeries = df_unique_rows.to_dict('index')\n",
    "# dictSeries"
   ]
  },
  {
   "cell_type": "code",
   "execution_count": null,
   "metadata": {},
   "outputs": [],
   "source": [
    "key_list = list(dictSeries.keys())\n",
    "val_list = list(dictSeries.values())\n",
    "col_label = df_sensors.apply(lambda row: key_list[val_list.index(pd.Series(row[:-1]).to_dict())], axis = 1)\n",
    "col_label = col_label.rename(\"Sensor_label\")\n",
    "df_sensors = df_sensors.join(col_label)\n",
    "# df_sensors"
   ]
  },
  {
   "cell_type": "code",
   "execution_count": null,
   "metadata": {},
   "outputs": [],
   "source": [
    "unique_data = [list(x) for x in set(tuple(x) for x in list(df_sensors['Activities']))]\n",
    "dictSeries = {}\n",
    "for index,ele in enumerate(unique_data):\n",
    "    dictSeries[index] = ele"
   ]
  },
  {
   "cell_type": "code",
   "execution_count": null,
   "metadata": {},
   "outputs": [],
   "source": [
    "key_list = list(dictSeries.keys())\n",
    "val_list = list(dictSeries.values())\n",
    "col_label = df_sensors['Activities'].map(lambda row: key_list[val_list.index(row)])\n",
    "col_label = col_label.rename(\"activity_label\")\n",
    "df_sensors = df_sensors.join(col_label)"
   ]
  },
  {
   "cell_type": "code",
   "execution_count": null,
   "metadata": {},
   "outputs": [],
   "source": [
    "# df_sensors"
   ]
  },
  {
   "cell_type": "code",
   "execution_count": null,
   "metadata": {
    "scrolled": false
   },
   "outputs": [],
   "source": [
    "print(len(df_sensors.activity_label.unique()))\n",
    "df_sensors.reset_index(drop=True, inplace=True)"
   ]
  },
  {
   "cell_type": "code",
   "execution_count": null,
   "metadata": {},
   "outputs": [],
   "source": [
    "len_sentence = 4\n",
    "startIndex = df_sensors.index[0]\n",
    "stepIndex = 5\n",
    "endIndex = df_sensors.index[-1]\n",
    "with open(\"Sensor-Activity.txt\", \"w\") as file:\n",
    "    while startIndex + len_sentence <= endIndex:\n",
    "        s = pd.Series(df_sensors.Sensor_label.loc[startIndex: startIndex + len_sentence])\n",
    "        s = s.apply(str)\n",
    "        sensor_sentence = s.str.cat(sep = \" \")\n",
    "#         print(sensor_sentence)\n",
    "        s = pd.Series(df_sensors.activity_label.loc[startIndex: startIndex + len_sentence])\n",
    "        s = s.apply(str)\n",
    "        activity_sentence = s.str.cat(sep = \" \")\n",
    "#         print(activity_sentence)\n",
    "\n",
    "        file.write(sensor_sentence + \"\\t\" + activity_sentence + \"\\n\")\n",
    "        startIndex = startIndex + stepIndex"
   ]
  },
  {
   "cell_type": "code",
   "execution_count": null,
   "metadata": {},
   "outputs": [],
   "source": []
  }
 ],
 "metadata": {
  "kernelspec": {
   "display_name": "Python 3",
   "language": "python",
   "name": "python3"
  },
  "language_info": {
   "codemirror_mode": {
    "name": "ipython",
    "version": 3
   },
   "file_extension": ".py",
   "mimetype": "text/x-python",
   "name": "python",
   "nbconvert_exporter": "python",
   "pygments_lexer": "ipython3",
   "version": "3.7.6"
  }
 },
 "nbformat": 4,
 "nbformat_minor": 1
}
